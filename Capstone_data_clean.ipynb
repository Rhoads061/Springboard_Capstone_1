{
 "cells": [
  {
   "cell_type": "code",
   "execution_count": 1,
   "metadata": {},
   "outputs": [],
   "source": [
    "# TODO: look into nbextensions for Jupyter, specifically code_prettify"
   ]
  },
  {
   "cell_type": "code",
   "execution_count": 91,
   "metadata": {
    "ExecuteTime": {
     "end_time": "2019-06-26T20:15:29.696804Z",
     "start_time": "2019-06-26T20:15:26.999241Z"
    }
   },
   "outputs": [],
   "source": [
    "# suggestion: try to avoid nebulously named objects, e.g. requests --> r\n",
    "import numpy as np\n",
    "import requests as r\n",
    "import pandas as pd\n",
    "import json\n",
    "from bs4 import BeautifulSoup\n",
    "import matplotlib.pyplot as plt\n",
    "import seaborn as sns\n",
    "import pickle\n",
    "import os\n",
    "from time import sleep\n",
    "from random import randint"
   ]
  },
  {
   "cell_type": "code",
   "execution_count": 2,
   "metadata": {
    "ExecuteTime": {
     "end_time": "2019-06-26T20:15:30.560463Z",
     "start_time": "2019-06-26T20:15:30.418416Z"
    },
    "scrolled": true
   },
   "outputs": [],
   "source": [
    "# read in csv to dataframe\n",
    "# TODO: look into os.path,join for handling relative file locations\n",
    "\n",
    "datafile =  'spreadspoke_scores.csv'\n",
    "df = pd.read_csv(datafile)"
   ]
  },
  {
   "cell_type": "code",
   "execution_count": 3,
   "metadata": {
    "ExecuteTime": {
     "end_time": "2019-06-26T20:15:31.458166Z",
     "start_time": "2019-06-26T20:15:31.425916Z"
    }
   },
   "outputs": [],
   "source": [
    "# Eliminate observations that do not have the data we need\n",
    "df = df[(df.spread_favorite.notnull()) &\n",
    "        (df.over_under_line.notnull()) &\n",
    "        (df.score_home.notnull()) &\n",
    "        (df.score_away.notnull()) &\n",
    "        (df.weather_temperature.notnull()) &\n",
    "        (df.weather_wind_mph.notnull())]\n"
   ]
  },
  {
   "cell_type": "code",
   "execution_count": 4,
   "metadata": {
    "ExecuteTime": {
     "end_time": "2019-06-26T20:15:32.147959Z",
     "start_time": "2019-06-26T20:15:32.006200Z"
    }
   },
   "outputs": [],
   "source": [
    "# drop unwanted columns\n",
    "drop_cols = [ 'stadium_neutral']\n",
    "for col in drop_cols:\n",
    "    df.drop(col, axis=1, inplace=True)"
   ]
  },
  {
   "cell_type": "code",
   "execution_count": 5,
   "metadata": {
    "ExecuteTime": {
     "end_time": "2019-06-26T20:15:36.244247Z",
     "start_time": "2019-06-26T20:15:36.230216Z"
    }
   },
   "outputs": [],
   "source": [
    "# Only want post 1987 data to avoid last NFL strike\n",
    "df = df[df.schedule_season > 1987]\n",
    "\n",
    "# Fill in weather detail data\n",
    "#df.weather_detail=df.weather_detail.fillna('CLEAR')- considered this but weather detail column was too unpopulated"
   ]
  },
  {
   "cell_type": "code",
   "execution_count": 6,
   "metadata": {
    "ExecuteTime": {
     "end_time": "2019-06-26T20:15:56.619057Z",
     "start_time": "2019-06-26T20:15:56.589896Z"
    },
    "code_folding": [
     1
    ]
   },
   "outputs": [],
   "source": [
    "## teamSwitch takes a string of the name of any football team from the past 30 years and returns the current abbreviation\n",
    "def teamSwitch(full):\n",
    "    abv = ''\n",
    "    if full == 'New York Jets' or full == 'New York Giants':\n",
    "        for let in range(len(full)):\n",
    "            if let == 0:\n",
    "                abv += full[let]\n",
    "            elif full[let] == ' ':\n",
    "                abv += full[let + 1]\n",
    "    elif full.startswith('New ') or full.startswith(\n",
    "            'Kans') or full[6:9] == 'Bay' or full.endswith('49ers'):\n",
    "        for let in range(len(full)):\n",
    "            if let == 0:\n",
    "                abv += full[let]\n",
    "            elif full[let] == ' ':\n",
    "                abv += full[let + 1]\n",
    "                return abv\n",
    "    elif full.endswith('Oilers'):\n",
    "        return \"TEN\"\n",
    "    elif full.endswith('Cardinals'):\n",
    "        return 'ARI'\n",
    "    elif full.endswith('Rams'):\n",
    "        return 'LAR'\n",
    "    elif full.endswith('Chargers'):\n",
    "        return 'LAC'\n",
    "    elif full.endswith('Raiders'):\n",
    "        return 'OAK'\n",
    "    elif full[0:4] == 'Jack':\n",
    "        return 'JAX'\n",
    "    else:\n",
    "        return full[0:3].upper()\n",
    "    return abv"
   ]
  },
  {
   "cell_type": "code",
   "execution_count": 7,
   "metadata": {
    "ExecuteTime": {
     "end_time": "2019-06-26T20:16:21.417356Z",
     "start_time": "2019-06-26T20:16:21.390330Z"
    },
    "code_folding": [
     1
    ]
   },
   "outputs": [],
   "source": [
    "#weekNums takes the named weeks of the playoff rounds and converts them to ints\n",
    "def weekNums(cell):\n",
    "    if cell=='Division':\n",
    "        cell= int(19)\n",
    "    elif cell.upper()=='WILDCARD':\n",
    "        cell=int(18)\n",
    "    elif cell== 'Conference':\n",
    "        cell=int(20)\n",
    "    elif cell.upper()== 'SUPERBOWL':\n",
    "        cell=int(21)\n",
    "    else:\n",
    "        cell=int(cell)\n",
    "    return cell"
   ]
  },
  {
   "cell_type": "code",
   "execution_count": 8,
   "metadata": {
    "ExecuteTime": {
     "end_time": "2019-06-26T20:16:42.852116Z",
     "start_time": "2019-06-26T20:16:42.780554Z"
    },
    "code_folding": [
     1
    ]
   },
   "outputs": [],
   "source": [
    "#takes a pro football stadium and shows its zip code\n",
    "def zipCode(cell):\n",
    "    if cell==('Giants Stadium') or cell== ('MetLife Stadium'):\n",
    "        cell= '07073'\n",
    "    elif cell=='Lambeau Field':\n",
    "        cell='54304'\n",
    "    elif cell=='Arrowhead Stadium':\n",
    "        cell='64129'\n",
    "    elif cell== 'Soldier Field':\n",
    "        cell='60605'\n",
    "    elif cell==('Louisiana Superdome')or cell== ('Mercedes-Benz Superdome'):\n",
    "        cell = '70112'\n",
    "    elif cell=='Qualcomm Stadium':\n",
    "        cell= '92108'\n",
    "    elif cell=='Sun Life Stadium'or cell=='Hard Rock Stadium':\n",
    "        cell='33056'\n",
    "    elif cell== 'Ralph Wilson Stadium' or cell=='New Era Field':\n",
    "        cell= '14127'\n",
    "    elif cell== 'Georgia Dome' or cell=='Atlanta-Fulton County Stadium' :\n",
    "        cell='30313'\n",
    "    elif cell == 'Candlestick Park' or cell=='Levi\\'s Stadium':\n",
    "        cell= '95054'\n",
    "    elif cell == 'University of Phoenix Stadium':\n",
    "        cell= '85305'\n",
    "    elif cell=='Oakland Coliseum':\n",
    "        cell= '94621'\n",
    "    elif cell== 'Bank of America Stadium':\n",
    "        cell ='28202'\n",
    "    elif cell== 'EverBank Field' or cell=='TIAA Bank Field':\n",
    "        cell='32202'\n",
    "    elif cell== 'FedEx Field' or cell== 'RFK Memorial Stadium':\n",
    "        cell='20785'\n",
    "    elif cell== 'Hubert H. Humphrey Metrodome' or cell=='Mall of America Field' or cell=='U.S. Bank Stadium':\n",
    "        cell='55414'\n",
    "    elif cell== 'Edward Jones Dome':  \n",
    "        cell='63101'\n",
    "    elif cell=='Texas Stadium' or cell=='Cowboys Stadium' or cell=='AT&T Stadium':\n",
    "        cell='76011'\n",
    "    elif cell== 'M&T Bank Stadium':\n",
    "        cell= '21230'\n",
    "    elif cell== 'RCA Dome' or cell=='Lucas Oil Stadium':\n",
    "        cell='46225'\n",
    "    elif cell== 'Raymond James Stadium' or cell=='Houlihan\\'s Stadium':  \n",
    "        cell='33607'\n",
    "    elif cell=='FirstEnergy Stadium' or cell=='Cleveland Municipal Stadium':\n",
    "        cell='44114'  \n",
    "    elif cell== 'Nissan Stadium'or cell=='LP Stadium':  \n",
    "        cell='37213'\n",
    "    elif cell=='Paul Brown Stadium' or cell=='Cinergy Field':\n",
    "        cell='45202'\n",
    "    elif cell== 'Heinz Field' or cell=='Three Rivers Stadium':\n",
    "        cell='15212'\n",
    "    elif cell== 'Sports Authority Field at Mile High' or cell=='Mile High Stadium':\n",
    "        cell='80204'\n",
    "    elif cell== 'Gillette Stadium' or cell=='Foxboro Stadium':  \n",
    "        cell='02035'\n",
    "    elif cell=='CenturyLink Field' or cell=='Seattle Kingdome':\n",
    "        cell='98134'\n",
    "    elif cell=='Ford Field' or cell=='Pontiac Silverdome':\n",
    "        cell='48226'  \n",
    "    elif cell=='Lincoln Financial Field' or cell=='Veterans Stadium':\n",
    "        cell='19148'\n",
    "    elif cell=='Los Angeles Memorial Coliseum':\n",
    "        cell='90037'   \n",
    "    elif cell=='Anaheim Stadium':\n",
    "        cell='92806' \n",
    "    elif cell=='Sun Devil Stadium':\n",
    "        cell='85287' \n",
    "    elif cell=='Wembley Stadium':\n",
    "        cell=''\n",
    "    elif cell=='Husky Stadium':\n",
    "        cell='98195'\n",
    "    elif cell== 'TCF Bank Stadium':\n",
    "        cell= '55455'\n",
    "    elif cell=='Memorial Stadium (Baltimore)':\n",
    "        cell='21218'\n",
    "    elif cell=='StubHub Center':\n",
    "        cell= '90746'\n",
    "    elif cell=='Memorial Stadium (Champaign)':\n",
    "        cell='61820'\n",
    "    elif cell=='Vanderbilt Stadium':\n",
    "        cell='37203'\n",
    "    elif cell=='Rogers Centre':\n",
    "        cell=''\n",
    "    elif cell=='Tiger Stadium (LSU)':\n",
    "        cell='70803'\n",
    "    elif cell=='Busch Memorial Stadium':\n",
    "        cell='63102'\n",
    "    elif cell=='Twickenham Stadium':\n",
    "        cell=''\n",
    "    elif cell=='Alamo Dome':\n",
    "        cell='78203'\n",
    "    elif cell=='Estadio Azteca':\n",
    "        cell=''\n",
    "    elif cell=='Tottenham Stadium':\n",
    "        cell=''\n",
    "    elif cell==('Reliant Stadium')or cell== ('NRG Stadium')  or cell == ('Houston Astrodome'):\n",
    "        cell = '77054'\n",
    "    elif cell==('Memorial Stadium (Clemson)'):\n",
    "        cell = '29634'\n",
    "    elif cell==('Liberty Bowl Memorial Stadium'):\n",
    "        cell = '38104'\n",
    "    return cell"
   ]
  },
  {
   "cell_type": "code",
   "execution_count": 9,
   "metadata": {
    "ExecuteTime": {
     "end_time": "2019-06-26T20:18:19.151391Z",
     "start_time": "2019-06-26T20:18:19.064588Z"
    },
    "code_folding": [
     3
    ]
   },
   "outputs": [],
   "source": [
    "# takes a pro football stadium and return its coordinates\n",
    "# TODO: take a look at a geocoding API for converting an address into a lat/lng, e.g. Google, HERE, Mapbox, ESRI, Nominatim\n",
    "\n",
    "def stadCord(cell):\n",
    "    if cell==('Giants Stadium') or cell== ('MetLife Stadium'):\n",
    "        cell= (40.8135 , -74.0745)\n",
    "    elif cell=='Lambeau Field':\n",
    "        cell=(44.5013, -88.0622)\n",
    "    elif cell=='Arrowhead Stadium':\n",
    "        cell=(39.0489, -94.4839)\n",
    "    elif cell== 'Soldier Field':\n",
    "        cell=(41.8623, -87.6167)\n",
    "    elif cell==('Louisiana Superdome')or cell== ('Mercedes-Benz Superdome'):\n",
    "        cell = (29.9511, -90.0812)\n",
    "    elif cell=='Qualcomm Stadium':\n",
    "        cell= (32.7764, -117.1183)\n",
    "    elif cell=='Sun Life Stadium'or cell=='Hard Rock Stadium':\n",
    "        cell=(25.9580, -80.2389)\n",
    "    elif cell== 'Ralph Wilson Stadium' or cell=='New Era Field':\n",
    "        cell= (42.7738, -78.7870)\n",
    "    elif cell== 'Georgia Dome' or cell=='Atlanta-Fulton County Stadium' :\n",
    "        cell=(33.7577, -84.4008)\n",
    "    elif cell == 'Candlestick Park' or cell=='Levi\\'s Stadium':\n",
    "        cell= (37.7136, -122.3861)\n",
    "    elif cell == 'University of Phoenix Stadium':\n",
    "        cell= (33.5276, -112.2626)\n",
    "    elif cell=='Oakland Coliseum':\n",
    "        cell= (37.7516, -122.2005)\n",
    "    elif cell== 'Bank of America Stadium':\n",
    "        cell =(35.2258, -80.8528)\n",
    "    elif cell== 'EverBank Field' or cell=='TIAA Bank Field':\n",
    "        cell=(30.3238, -81.6375)\n",
    "    elif cell== 'FedEx Field' or cell== 'RFK Memorial Stadium':\n",
    "        cell=(38.9077, -76.8644)\n",
    "    elif cell== 'Hubert H. Humphrey Metrodome' or cell=='Mall of America Field' or cell=='U.S. Bank Stadium':\n",
    "        cell=(44.9738, -93.2580)\n",
    "    elif cell== 'Edward Jones Dome':  \n",
    "        cell=(38.6327, -90.1886)\n",
    "    elif cell=='Texas Stadium' or cell=='Cowboys Stadium' or cell=='AT&T Stadium':\n",
    "        cell=(32.84, -96.911)\n",
    "    elif cell== 'M&T Bank Stadium':\n",
    "        cell=(39.2780, -76.6227)\n",
    "    elif cell== 'RCA Dome' or cell=='Lucas Oil Stadium':\n",
    "        cell=(39.7636, -86.1633)\n",
    "    elif cell== 'Raymond James Stadium' or cell=='Houlihan\\'s Stadium':  \n",
    "        cell=(27.9758, -82.5033)\n",
    "    elif cell=='FirstEnergy Stadium' or cell=='Cleveland Municipal Stadium':\n",
    "        cell=(41.5066, -81.6972)   \n",
    "    elif cell== 'Nissan Stadium'or cell=='LP Stadium':  \n",
    "        cell=(36.1663, -86.7713)\n",
    "    elif cell=='Paul Brown Stadium' or cell=='Cinergy Field':\n",
    "        cell=(39.095, -84.516)\n",
    "    elif cell== 'Heinz Field' or cell=='Three Rivers Stadium':\n",
    "        cell=(40.4466, -80.0158)\n",
    "    elif cell== 'Sports Authority Field at Mile High' or cell=='Mile High Stadium':\n",
    "        cell=(39.7438, -105.02)\n",
    "    elif cell== 'Gillette Stadium' or cell=='Foxboro Stadium':  \n",
    "        cell=(42.0909, -71.2643)\n",
    "    elif cell=='CenturyLink Field' or cell=='Seattle Kingdome':\n",
    "        cell=(47.5952, -122.3316)  \n",
    "    elif cell=='Ford Field' or cell=='Pontiac Silverdome':\n",
    "        cell=(42.34, -83.0455)  \n",
    "    elif cell=='Lincoln Financial Field' or cell=='Veterans Stadium':\n",
    "        cell=(39.9008, -75.1675) \n",
    "    elif cell=='Los Angeles Memorial Coliseum':\n",
    "        cell=(34.0141, -118.2877)     \n",
    "    elif cell=='Anaheim Stadium':\n",
    "        cell=(33.8002, -117.8827)  \n",
    "    elif cell=='Sun Devil Stadium':\n",
    "        cell=(33.4263, -111.93)  \n",
    "    elif cell=='Wembley Stadium':\n",
    "        cell=(51.5558, -0.2797)\n",
    "    elif cell=='Husky Stadium':\n",
    "        cell=(47.6502, -122.3016)\n",
    "    elif cell== 'TCF Bank Stadium':\n",
    "        cell= (44.976, -93.225)\n",
    "    elif cell=='Memorial Stadium (Baltimore)':\n",
    "        cell=(39.3294, -76.6013)\n",
    "    elif cell=='StubHub Center':\n",
    "        cell=(33.864, -118.261)\n",
    "    elif cell=='Memorial Stadium (Champaign)':\n",
    "        cell=(40.0991, -88.2358)\n",
    "    elif cell=='Vanderbilt Stadium':\n",
    "        cell=(36.1441, -86.8088)\n",
    "    elif cell=='Rogers Centre':\n",
    "        cell=(43.6413, -79.3891)\n",
    "    elif cell=='Tiger Stadium (LSU)':\n",
    "        cell=(30.4119, -91.1855)\n",
    "    elif cell=='Busch Memorial Stadium':\n",
    "        cell=(38.6238, -90.1925)\n",
    "    elif cell=='Twickenham Stadium':\n",
    "        cell=(51.4561, -0.3416)\n",
    "    elif cell=='Alamo Dome':\n",
    "        cell=(29.4169, -98.4788)\n",
    "    elif cell=='Estadio Azteca':\n",
    "        cell=(19.3029, -99.1504)\n",
    "    elif cell=='Tottenham Stadium':\n",
    "        cell=(51.6044, -0.0663)\n",
    "        \n",
    "    elif cell==('Reliant Stadium')or cell == ('NRG Stadium') or cell == ('Houston Astrodome'):\n",
    "        cell = (29.6847, -95.4107)\n",
    "    elif cell==('Memorial Stadium (Clemson)'):\n",
    "        cell = (34.6788, -82.8432)\n",
    "    elif cell==('Liberty Bowl Memorial Stadium'):\n",
    "        cell = (35.1211, -89.9774)\n",
    "        \n",
    "    return cell"
   ]
  },
  {
   "cell_type": "code",
   "execution_count": 10,
   "metadata": {
    "ExecuteTime": {
     "end_time": "2019-06-26T20:18:50.561918Z",
     "start_time": "2019-06-26T20:18:50.547987Z"
    },
    "code_folding": [
     3
    ]
   },
   "outputs": [],
   "source": [
    "#changes the date format to be web scrape friendly\n",
    "def dateSwitch(cell):\n",
    "    cell = cell[6:] + cell[5] + cell[0:3] + cell[3:5]\n",
    "    cell = cell.replace('/', '-')\n",
    "    return cell"
   ]
  },
  {
   "cell_type": "code",
   "execution_count": 11,
   "metadata": {
    "ExecuteTime": {
     "end_time": "2019-06-26T20:18:55.143444Z",
     "start_time": "2019-06-26T20:18:54.973119Z"
    }
   },
   "outputs": [],
   "source": [
    "# TODO: read-up on the dangers of using .copy() with dataframes\n",
    "# Suggestion: self-documenting code, e.g. instead of ppdf, use df_junk, df_test, df_copy...\n",
    "ppdf = df.copy()\n",
    "\n",
    "# apply teamSwitch to data\n",
    "ppdf.team_home = ppdf.team_home.apply(teamSwitch)\n",
    "ppdf.team_away = ppdf.team_away.apply(teamSwitch)\n",
    "\n",
    "# create a column to show if the home team is favored\n",
    "homefave = ppdf.team_home == ppdf.team_favorite_id\n",
    "ppdf['home_fave'] = homefave\n",
    "\n",
    "# create a column to show the total points scored by both teams\n",
    "ppdf['total'] = ppdf.score_home + ppdf.score_away\n"
   ]
  },
  {
   "cell_type": "code",
   "execution_count": 12,
   "metadata": {
    "ExecuteTime": {
     "end_time": "2019-06-26T20:18:59.206683Z",
     "start_time": "2019-06-26T20:18:59.140850Z"
    }
   },
   "outputs": [],
   "source": [
    "# Add stadium coordinates\n",
    "col = ppdf.copy()\n",
    "col.stadium = col.stadium.apply(stadCord)\n",
    "ppdf['coordinates'] = col.stadium\n",
    "col = ppdf.copy()\n",
    "\n",
    "# Add zipcode\n",
    "col.stadium = col.stadium.apply(zipCode)\n",
    "ppdf['zipcode'] = col.stadium"
   ]
  },
  {
   "cell_type": "code",
   "execution_count": 13,
   "metadata": {
    "ExecuteTime": {
     "end_time": "2019-06-26T20:19:02.399899Z",
     "start_time": "2019-06-26T20:19:01.845170Z"
    }
   },
   "outputs": [],
   "source": [
    "# reformat dates\n",
    "# TODO: look into the efficiency of doing map vs apply vs ...?\n",
    "ppdf.schedule_week = ppdf.schedule_week.apply(weekNums)\n",
    "ppdf = ppdf[ppdf.zipcode != '']\n",
    "ppdf.schedule_date = ppdf.schedule_date.apply(dateSwitch)"
   ]
  },
  {
   "cell_type": "code",
   "execution_count": null,
   "metadata": {},
   "outputs": [],
   "source": []
  },
  {
   "cell_type": "code",
   "execution_count": 14,
   "metadata": {
    "ExecuteTime": {
     "end_time": "2019-06-26T20:21:08.627871Z",
     "start_time": "2019-06-26T20:20:57.865006Z"
    }
   },
   "outputs": [],
   "source": [
    "# Create a dict, result, to track how teams do compared to the spread. If favorite wins, the number is negative and  the number is positive if the underdog wins\n",
    "# Initialize empty dict\n",
    "result = {}\n",
    "\n",
    "# loop through dataFrame index to populate dict with keys from the index  and values from columns\n",
    "# TODO: look into how you could make the below more efficient... maybe a one-liner\n",
    "for x in ppdf.index:\n",
    "    if ppdf.loc[x]['home_fave'] == True:\n",
    "        result[x] = ppdf.loc[x]['score_away'] - ppdf.loc[x]['score_home']\n",
    "    else:\n",
    "        result[x] = ppdf.loc[x]['score_home'] - ppdf.loc[x]['score_away']"
   ]
  },
  {
   "cell_type": "code",
   "execution_count": 15,
   "metadata": {
    "ExecuteTime": {
     "end_time": "2019-06-26T20:23:51.729339Z",
     "start_time": "2019-06-26T20:23:51.674790Z"
    },
    "scrolled": true
   },
   "outputs": [],
   "source": [
    "#create new column for result\n",
    "result = pd.Series(result)\n",
    "ppdf['results'] = result\n",
    "ppdf['results-spread'] = ppdf['results'] - ppdf['spread_favorite']\n",
    "\n",
    "#using the new results column, create a bolean series to become a new column to indicate if the spread ws covered\n",
    "cover = ppdf.results < ppdf.spread_favorite\n",
    "ppdf['favorite_cover'] = cover\n",
    "\n",
    "#create a boolean series to make a column to indicate if the over was reached\n",
    "ppdf['over_under_line'] = ppdf['over_under_line'].astype(float)\n",
    "over = ppdf['total'] > ppdf['over_under_line']\n",
    "ppdf['over_cover'] = over\n",
    "over_diff = ppdf.total- ppdf.over_under_line \n",
    "ppdf['over_diff'] = over_diff\n",
    "\n",
    "#rearrange columns for more readable DataFrame\n",
    "ppdf = ppdf[[\n",
    "    'schedule_date', 'schedule_season', 'schedule_week', 'team_home',\n",
    "    'score_home', 'score_away', 'team_away', 'team_favorite_id',\n",
    "    'spread_favorite', 'results', 'results-spread', 'favorite_cover',\n",
    "    'over_under_line', 'total', 'over_diff', 'over_cover',\n",
    "    'weather_temperature', 'weather_wind_mph', 'stadium', 'coordinates',\n",
    "    'zipcode', 'weather_detail'\n",
    "]]"
   ]
  },
  {
   "cell_type": "code",
   "execution_count": 113,
   "metadata": {
    "ExecuteTime": {
     "end_time": "2019-06-26T20:23:58.972148Z",
     "start_time": "2019-06-26T20:23:57.707523Z"
    }
   },
   "outputs": [
    {
     "data": {
      "text/plain": [
       "u'0.00'"
      ]
     },
     "execution_count": 113,
     "metadata": {},
     "output_type": "execute_result"
    }
   ],
   "source": [
    "#Test path to see if we are getting the right data\n",
    "pracdf = ppdf.copy()\n",
    "page = r.get('https://www.almanac.com/weather/history/zipcode/' +\n",
    "             pracdf.loc[5402]['zipcode'] + '/' +\n",
    "             pracdf.loc[5402]['schedule_date'])\n",
    "soup = BeautifulSoup(page.content, 'html.parser')\n",
    "prcp = soup.find('tr', class_='weatherhistory_results_datavalue prcp')\n",
    "data = prcp.find('td')\n",
    "nxt = data.find('p')\n",
    "point = nxt.find(class_='value')\n",
    "point.get_text()"
   ]
  },
  {
   "cell_type": "code",
   "execution_count": 95,
   "metadata": {},
   "outputs": [
    {
     "data": {
      "text/plain": [
       "4673    55414/1988-12-19\n",
       "4675    55414/1988-12-26\n",
       "dtype: object"
      ]
     },
     "execution_count": 95,
     "metadata": {},
     "output_type": "execute_result"
    }
   ],
   "source": [
    "pracdf.loc[4685]['zipcode'] + '/' +pracdf.loc[4685]['schedule_date']"
   ]
  },
  {
   "cell_type": "code",
   "execution_count": 150,
   "metadata": {
    "ExecuteTime": {
     "end_time": "2019-06-26T20:26:34.497068Z",
     "start_time": "2019-06-26T20:26:34.381196Z"
    }
   },
   "outputs": [
    {
     "data": {
      "text/plain": [
       "4450      NaN\n",
       "4451      NaN\n",
       "4452      NaN\n",
       "4453      NaN\n",
       "4454     DOME\n",
       "4455      NaN\n",
       "4456     DOME\n",
       "4457      NaN\n",
       "4458      NaN\n",
       "4459      NaN\n",
       "4460     DOME\n",
       "4461      NaN\n",
       "4462      NaN\n",
       "4463      NaN\n",
       "4464      NaN\n",
       "4465      NaN\n",
       "4466      NaN\n",
       "4467      NaN\n",
       "4468      NaN\n",
       "4469     DOME\n",
       "4470     DOME\n",
       "4471      NaN\n",
       "4472     DOME\n",
       "4473      NaN\n",
       "4474      NaN\n",
       "4475     DOME\n",
       "4476      NaN\n",
       "4477      NaN\n",
       "4478      NaN\n",
       "4479      NaN\n",
       "         ... \n",
       "12370    DOME\n",
       "12371     NaN\n",
       "12372     NaN\n",
       "12373    DOME\n",
       "12374    DOME\n",
       "12375    DOME\n",
       "12376     NaN\n",
       "12377     NaN\n",
       "12378    DOME\n",
       "12379     NaN\n",
       "12380     NaN\n",
       "12381     NaN\n",
       "12382     NaN\n",
       "12383    Rain\n",
       "12384     NaN\n",
       "12385     NaN\n",
       "12386     NaN\n",
       "12387     NaN\n",
       "12388    DOME\n",
       "12389     NaN\n",
       "12390     NaN\n",
       "12391    DOME\n",
       "12392     NaN\n",
       "12393    DOME\n",
       "12394     NaN\n",
       "12395     NaN\n",
       "12396     NaN\n",
       "12397     NaN\n",
       "12398     NaN\n",
       "12399     NaN\n",
       "Name: weather_detail, Length: 7692, dtype: object"
      ]
     },
     "execution_count": 150,
     "metadata": {},
     "output_type": "execute_result"
    }
   ],
   "source": [
    "pracdf.weather_detail"
   ]
  },
  {
   "cell_type": "code",
   "execution_count": 19,
   "metadata": {
    "ExecuteTime": {
     "end_time": "2019-06-26T20:26:07.961624Z",
     "start_time": "2019-06-26T20:26:07.946520Z"
    }
   },
   "outputs": [
    {
     "name": "stdout",
     "output_type": "stream",
     "text": [
      "col 0: schedule_date\n",
      "col 1: schedule_season\n",
      "col 2: schedule_week\n",
      "col 3: team_home\n",
      "col 4: score_home\n",
      "col 5: score_away\n",
      "col 6: team_away\n",
      "col 7: team_favorite_id\n",
      "col 8: spread_favorite\n",
      "col 9: results\n",
      "col 10: results-spread\n",
      "col 11: favorite_cover\n",
      "col 12: over_under_line\n",
      "col 13: total\n",
      "col 14: over_diff\n",
      "col 15: over_cover\n",
      "col 16: weather_temperature\n",
      "col 17: weather_wind_mph\n",
      "col 18: stadium\n",
      "col 19: coordinates\n",
      "col 20: zipcode\n",
      "col 21: weather_detail\n"
     ]
    }
   ],
   "source": [
    "for i, col in enumerate(pracdf.columns):\n",
    "    print('col {}: {}'.format(i, col))"
   ]
  },
  {
   "cell_type": "code",
   "execution_count": 164,
   "metadata": {
    "ExecuteTime": {
     "end_time": "2019-06-26T20:46:18.692897Z",
     "start_time": "2019-06-26T20:45:31.520901Z"
    }
   },
   "outputs": [
    {
     "name": "stdout",
     "output_type": "stream",
     "text": [
      "Working on: 12366 2018-12-16 -- SF v SEA\n",
      "(u'0.00', 0)\n",
      "Working on: 12367 2018-12-17 -- CAR v NO\n",
      "(u'0.00', 0)\n",
      "Working on: 12368 2018-12-22 -- LAC v BAL\n",
      "(u'0.00', 0)\n",
      "Working on: 12369 2018-12-22 -- TEN v WAS\n",
      "(u'0.03', 0)\n",
      "Working on: 12371 2018-12-23 -- CAR v ATL\n",
      "(u'0.00', 0)\n",
      "Working on: 12372 2018-12-23 -- CLE v CIN\n",
      "(u'0.10', 0)\n",
      "Working on: 12376 2018-12-23 -- MIA v JAX\n",
      "(u'0.00', 0)\n",
      "Working on: 12377 2018-12-23 -- NE v BUF\n",
      "(u'0.02', 0)\n",
      "Working on: 12379 2018-12-23 -- NYJ v GB\n",
      "(u'0.01', 0)\n",
      "Working on: 12380 2018-12-23 -- PHI v HOU\n",
      "(u'0.09', 0)\n",
      "Working on: 12381 2018-12-23 -- SF v CHI\n",
      "(u'0.00', 0)\n",
      "Working on: 12382 2018-12-23 -- SEA v KC\n",
      "(u'0.44', 0)\n",
      "Working on: 12383 2018-12-24 -- OAK v DEN\n",
      "(u'0.00', 0)\n",
      "Working on: 12384 2018-12-30 -- BAL v CLE\n",
      "(u'0.00', 0)\n",
      "Working on: 12385 2018-12-30 -- BUF v MIA\n",
      "(u'0.08', 0)\n",
      "Working on: 12386 2018-12-30 -- DEN v LAC\n",
      "(u'0.00', 0)\n",
      "Working on: 12387 2018-12-30 -- GB v DET\n",
      "(u'0.00', 0)\n",
      "Working on: 12389 2018-12-30 -- KC v OAK\n",
      "(u'0.00', 0)\n",
      "Working on: 12390 2018-12-30 -- LAR v SF\n",
      "(u'0.00', 0)\n",
      "Working on: 12392 2018-12-30 -- NE v NYJ\n",
      "(u'0.00', 0)\n",
      "Working on: 12394 2018-12-30 -- NYG v DAL\n",
      "(u'0.00', 0)\n",
      "Working on: 12395 2018-12-30 -- PIT v CIN\n",
      "(u'0.00', 0)\n",
      "Working on: 12396 2018-12-30 -- SEA v ARI\n",
      "(u'0.62', 0)\n",
      "Working on: 12397 2018-12-30 -- TB v ATL\n",
      "(u'0.00', 0)\n",
      "Working on: 12398 2018-12-30 -- TEN v IND\n",
      "(u'0.00', 0)\n",
      "Working on: 12399 2018-12-30 -- WAS v PHI\n",
      "(u'0.00', 0)\n"
     ]
    }
   ],
   "source": [
    "#create dic to store values\n",
    "\n",
    "\n",
    "count=0\n",
    "\n",
    "# loop through index and populate dict with precipitation data\n",
    "# TODO: look into how to efficiently loop over a dataframe\n",
    "for i in pracdf.index:\n",
    "    # temp debug continue\n",
    "    #if pracdf.loc[i]['team_home'] != 'DET':\n",
    "    #    continue\n",
    "    \n",
    "    if count>50:\n",
    "        sleep(20)\n",
    "        count=0\n",
    "        \n",
    "        \n",
    "    if pracdf.loc[i]['weather_detail'] =='DOME':\n",
    "        precipitation[i] = 0\n",
    "    else:\n",
    "        \n",
    "        print('Working on: {} {} -- {} v {}'.format(i, pracdf.loc[i]['schedule_date'], pracdf.loc[i]['team_home'], pracdf.loc[i]['team_away']))\n",
    "        \n",
    "        page = r.get('https://www.almanac.com/weather/history/zipcode/' +\n",
    "                     pracdf.loc[i]['zipcode'] + '/' +\n",
    "                     pracdf.loc[i]['schedule_date'])\n",
    "        soup = BeautifulSoup(page.content, 'html.parser')\n",
    "        prcp = soup.find('tr', class_='weatherhistory_results_datavalue prcp')\n",
    "        if prcp== None:\n",
    "            count+=1\n",
    "            sleep(10)\n",
    "            \n",
    "            page = r.get('https://www.almanac.com/weather/history/zipcode/' +\n",
    "                     pracdf.loc[i]['zipcode'] + '/' +\n",
    "                     pracdf.loc[i]['schedule_date'])\n",
    "            soup = BeautifulSoup(page.content, 'html.parser')\n",
    "            prcp = soup.find('tr', class_='weatherhistory_results_datavalue prcp')\n",
    "            if prcp== None:\n",
    "                print(pracdf.loc[i]['zipcode'], \n",
    "                  pracdf.loc[i]['schedule_date'], \n",
    "                  'Nonetype Detected')\n",
    "                precipitation[i] = -999\n",
    "                \n",
    "            else:\n",
    "                data = prcp.find('td')\n",
    "                nxt = data.find('p')\n",
    "    #print('---->>>>>', )\n",
    "    #print('---->>>>>', nxt.find(class_='nullvalue'))\n",
    "                if nxt.get_text() == 'No data.':\n",
    "                    print('WARNING: no precipitation data for date and game')\n",
    "                    precipitation[i] = -999\n",
    "                else:\n",
    "                    point = nxt.find(class_='value')\n",
    "                #print('---->>>>>', point)#, point.get_text())\n",
    "                    precipitation[i] = point.get_text()\n",
    "                    print(precipitation[i], count)\n",
    "        else:\n",
    "            data = prcp.find('td')\n",
    "            nxt = data.find('p')\n",
    "            if nxt.get_text() == 'No data.':\n",
    "                \n",
    "                precipitation[i] = -999\n",
    "            else:\n",
    "                point = nxt.find(class_='value')\n",
    "               \n",
    "                precipitation[i] = point.get_text()\n",
    "                print(precipitation[i], count)\n",
    "             \n",
    "            \n",
    "            \n",
    "precipitation = pd.Series(precipitation)"
   ]
  },
  {
   "cell_type": "code",
   "execution_count": 221,
   "metadata": {
    "ExecuteTime": {
     "end_time": "2019-06-26T20:46:18.692897Z",
     "start_time": "2019-06-26T20:45:31.520901Z"
    }
   },
   "outputs": [],
   "source": [
    "# 7:40:00 10673    Working on: 11139 2014-10-05 -- DAL v HOU\n",
    "ppdf['precipitation']=precipitation\n",
    "ppdf=ppdf.loc[ppdf.precipitation>-1]\n"
   ]
  },
  {
   "cell_type": "code",
   "execution_count": 193,
   "metadata": {},
   "outputs": [],
   "source": [
    "for i in ppdf.index:\n",
    "    if ppdf.loc[i,'weather_detail']=='DOME':\n",
    "        ppdf.loc[i,'precipitation']=0\n",
    "        \n"
   ]
  },
  {
   "cell_type": "code",
   "execution_count": 219,
   "metadata": {},
   "outputs": [
    {
     "data": {
      "text/plain": [
       "schedule_date          7375\n",
       "schedule_season        7375\n",
       "schedule_week          7375\n",
       "team_home              7375\n",
       "score_home             7375\n",
       "score_away             7375\n",
       "team_away              7375\n",
       "team_favorite_id       7375\n",
       "spread_favorite        7375\n",
       "results                7375\n",
       "results-spread         7375\n",
       "favorite_cover         7375\n",
       "over_under_line        7375\n",
       "total                  7375\n",
       "over_diff              7375\n",
       "over_cover             7375\n",
       "weather_temperature    7375\n",
       "weather_wind_mph       7375\n",
       "stadium                7375\n",
       "coordinates            7375\n",
       "zipcode                7375\n",
       "weather_detail         1979\n",
       "precipitation          7375\n",
       "dtype: int64"
      ]
     },
     "execution_count": 219,
     "metadata": {},
     "output_type": "execute_result"
    }
   ],
   "source": [
    "ppdf.notna().sum()"
   ]
  },
  {
   "cell_type": "code",
   "execution_count": 220,
   "metadata": {},
   "outputs": [],
   "source": [
    "ppdf.to_pickle('clean_data.pkl')"
   ]
  },
  {
   "cell_type": "code",
   "execution_count": null,
   "metadata": {},
   "outputs": [],
   "source": []
  }
 ],
 "metadata": {
  "kernelspec": {
   "display_name": "Python 2",
   "language": "python",
   "name": "python2"
  },
  "language_info": {
   "codemirror_mode": {
    "name": "ipython",
    "version": 2
   },
   "file_extension": ".py",
   "mimetype": "text/x-python",
   "name": "python",
   "nbconvert_exporter": "python",
   "pygments_lexer": "ipython2",
   "version": "2.7.15"
  },
  "toc": {
   "base_numbering": 1,
   "nav_menu": {},
   "number_sections": true,
   "sideBar": true,
   "skip_h1_title": false,
   "title_cell": "Table of Contents",
   "title_sidebar": "Contents",
   "toc_cell": false,
   "toc_position": {},
   "toc_section_display": true,
   "toc_window_display": false
  },
  "varInspector": {
   "cols": {
    "lenName": 16,
    "lenType": 16,
    "lenVar": 40
   },
   "kernels_config": {
    "python": {
     "delete_cmd_postfix": "",
     "delete_cmd_prefix": "del ",
     "library": "var_list.py",
     "varRefreshCmd": "print(var_dic_list())"
    },
    "r": {
     "delete_cmd_postfix": ") ",
     "delete_cmd_prefix": "rm(",
     "library": "var_list.r",
     "varRefreshCmd": "cat(var_dic_list()) "
    }
   },
   "types_to_exclude": [
    "module",
    "function",
    "builtin_function_or_method",
    "instance",
    "_Feature"
   ],
   "window_display": false
  }
 },
 "nbformat": 4,
 "nbformat_minor": 2
}
