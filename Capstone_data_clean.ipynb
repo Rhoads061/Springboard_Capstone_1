{
 "cells": [
  {
   "cell_type": "code",
   "execution_count": null,
   "metadata": {},
   "outputs": [],
   "source": [
    "# TODO: look into nbextensions for Jupyter, specifically code_prettify"
   ]
  },
  {
   "cell_type": "code",
   "execution_count": 1,
   "metadata": {
    "ExecuteTime": {
     "end_time": "2019-06-26T20:15:29.696804Z",
     "start_time": "2019-06-26T20:15:26.999241Z"
    }
   },
   "outputs": [],
   "source": [
    "# suggestion: try to avoid nebulously named objects, e.g. requests --> r\n",
    "import numpy as np\n",
    "import requests as r\n",
    "import pandas as pd\n",
    "import json\n",
    "from bs4 import BeautifulSoup\n",
    "import matplotlib.pyplot as plt\n",
    "import seaborn as sns\n",
    "import pickle\n",
    "import os"
   ]
  },
  {
   "cell_type": "code",
   "execution_count": 2,
   "metadata": {
    "ExecuteTime": {
     "end_time": "2019-06-26T20:15:30.560463Z",
     "start_time": "2019-06-26T20:15:30.418416Z"
    },
    "scrolled": true
   },
   "outputs": [],
   "source": [
    "# read in csv to dataframe\n",
    "# TODO: look into os.path,join for handling relative file locations\n",
    "datadir = 'data/'\n",
    "datafile = datadir + 'spreadspoke_scores.csv'\n",
    "df = pd.read_csv(datafile)"
   ]
  },
  {
   "cell_type": "code",
   "execution_count": 3,
   "metadata": {
    "ExecuteTime": {
     "end_time": "2019-06-26T20:15:31.458166Z",
     "start_time": "2019-06-26T20:15:31.425916Z"
    }
   },
   "outputs": [],
   "source": [
    "# Eliminate observations that do not have the data we need\n",
    "df = df[(df.spread_favorite.notnull()) &\n",
    "        (df.over_under_line.notnull()) &\n",
    "        (df.score_home.notnull()) &\n",
    "        (df.score_away.notnull()) &\n",
    "        (df.weather_temperature.notnull()) &\n",
    "        (df.weather_wind_mph.notnull())]"
   ]
  },
  {
   "cell_type": "code",
   "execution_count": 4,
   "metadata": {
    "ExecuteTime": {
     "end_time": "2019-06-26T20:15:32.147959Z",
     "start_time": "2019-06-26T20:15:32.006200Z"
    }
   },
   "outputs": [],
   "source": [
    "# drop unwanted columns\n",
    "drop_cols = ['weather_humidity', 'stadium_neutral']\n",
    "for col in drop_cols:\n",
    "    df.drop(col, axis=1, inplace=True)"
   ]
  },
  {
   "cell_type": "code",
   "execution_count": 5,
   "metadata": {
    "ExecuteTime": {
     "end_time": "2019-06-26T20:15:36.244247Z",
     "start_time": "2019-06-26T20:15:36.230216Z"
    }
   },
   "outputs": [],
   "source": [
    "# Only want post 1987 data to avoid last NFL strike\n",
    "df = df[df.schedule_season > 1987]\n",
    "\n",
    "# Fill in weather detail data\n",
    "#df.weather_detail=df.weather_detail.fillna('CLEAR')- considered this but weather detail column was too unpopulated"
   ]
  },
  {
   "cell_type": "code",
   "execution_count": 6,
   "metadata": {
    "ExecuteTime": {
     "end_time": "2019-06-26T20:15:56.619057Z",
     "start_time": "2019-06-26T20:15:56.589896Z"
    },
    "code_folding": [
     1
    ]
   },
   "outputs": [],
   "source": [
    "## teamSwitch takes a string of the name of any football team from the past 30 years and returns the current abbreviation\n",
    "def teamSwitch(full):\n",
    "    abv = ''\n",
    "    if full == 'New York Jets' or full == 'New York Giants':\n",
    "        for let in range(len(full)):\n",
    "            if let == 0:\n",
    "                abv += full[let]\n",
    "            elif full[let] == ' ':\n",
    "                abv += full[let + 1]\n",
    "    elif full.startswith('New ') or full.startswith(\n",
    "            'Kans') or full[6:9] == 'Bay' or full.endswith('49ers'):\n",
    "        for let in range(len(full)):\n",
    "            if let == 0:\n",
    "                abv += full[let]\n",
    "            elif full[let] == ' ':\n",
    "                abv += full[let + 1]\n",
    "                return abv\n",
    "    elif full.endswith('Oilers'):\n",
    "        return \"TEN\"\n",
    "    elif full.endswith('Cardinals'):\n",
    "        return 'ARI'\n",
    "    elif full.endswith('Rams'):\n",
    "        return 'LAR'\n",
    "    elif full.endswith('Chargers'):\n",
    "        return 'LAC'\n",
    "    elif full.endswith('Raiders'):\n",
    "        return 'OAK'\n",
    "    elif full[0:4] == 'Jack':\n",
    "        return 'JAX'\n",
    "    else:\n",
    "        return full[0:3].upper()\n",
    "    return abv"
   ]
  },
  {
   "cell_type": "code",
   "execution_count": 7,
   "metadata": {
    "ExecuteTime": {
     "end_time": "2019-06-26T20:16:21.417356Z",
     "start_time": "2019-06-26T20:16:21.390330Z"
    },
    "code_folding": [
     1
    ]
   },
   "outputs": [],
   "source": [
    "#weekNums takes the named weeks of the playoff rounds and converts them to ints\n",
    "def weekNums(cell):\n",
    "    if cell=='Division':\n",
    "        cell= int(19)\n",
    "    elif cell.upper()=='WILDCARD':\n",
    "        cell=int(18)\n",
    "    elif cell== 'Conference':\n",
    "        cell=int(20)\n",
    "    elif cell.upper()== 'SUPERBOWL':\n",
    "        cell=int(21)\n",
    "    else:\n",
    "        cell=int(cell)\n",
    "    return cell"
   ]
  },
  {
   "cell_type": "code",
   "execution_count": 8,
   "metadata": {
    "ExecuteTime": {
     "end_time": "2019-06-26T20:16:42.852116Z",
     "start_time": "2019-06-26T20:16:42.780554Z"
    },
    "code_folding": [
     1
    ]
   },
   "outputs": [],
   "source": [
    "#takes a pro football stadium and shows its zip code\n",
    "def zipCode(cell):\n",
    "    if cell==('Giants Stadium') or cell== ('MetLife Stadium'):\n",
    "        cell= '07073'\n",
    "    elif cell=='Lambeau Field':\n",
    "        cell='54304'\n",
    "    elif cell=='Arrowhead Stadium':\n",
    "        cell='64129'\n",
    "    elif cell== 'Soldier Field':\n",
    "        cell='60605'\n",
    "    elif cell==('Louisiana Superdome')or cell== ('Mercedes-Benz Superdome'):\n",
    "        cell = '70112'\n",
    "    elif cell=='Qualcomm Stadium':\n",
    "        cell= '92108'\n",
    "    elif cell=='Sun Life Stadium'or cell=='Hard Rock Stadium':\n",
    "        cell='33056'\n",
    "    elif cell== 'Ralph Wilson Stadium' or cell=='New Era Field':\n",
    "        cell= '14127'\n",
    "    elif cell== 'Georgia Dome' or cell=='Atlanta-Fulton County Stadium' :\n",
    "        cell='30313'\n",
    "    elif cell == 'Candlestick Park' or cell=='Levi\\'s Stadium':\n",
    "        cell= '95054'\n",
    "    elif cell == 'University of Phoenix Stadium':\n",
    "        cell= '85305'\n",
    "    elif cell=='Oakland Coliseum':\n",
    "        cell= '94621'\n",
    "    elif cell== 'Bank of America Stadium':\n",
    "        cell ='28202'\n",
    "    elif cell== 'EverBank Field' or cell=='TIAA Bank Field':\n",
    "        cell='32202'\n",
    "    elif cell== 'FedEx Field' or cell== 'RFK Memorial Stadium':\n",
    "        cell='20785'\n",
    "    elif cell== 'Hubert H. Humphrey Metrodome' or cell=='Mall of America Field' or cell=='U.S. Bank Stadium':\n",
    "        cell='55414'\n",
    "    elif cell== 'Edward Jones Dome':  \n",
    "        cell='63101'\n",
    "    elif cell=='Texas Stadium' or cell=='Cowboys Stadium' or cell=='AT&T Stadium':\n",
    "        cell='76011'\n",
    "    elif cell== 'M&T Bank Stadium':\n",
    "        cell= '21230'\n",
    "    elif cell== 'RCA Dome' or cell=='Lucas Oil Stadium':\n",
    "        cell='46225'\n",
    "    elif cell== 'Raymond James Stadium' or cell=='Houlihan\\'s Stadium':  \n",
    "        cell='33607'\n",
    "    elif cell=='FirstEnergy Stadium' or cell=='Cleveland Municipal Stadium':\n",
    "        cell='44114'  \n",
    "    elif cell== 'Nissan Stadium'or cell=='LP Stadium':  \n",
    "        cell='37213'\n",
    "    elif cell=='Paul Brown Stadium' or cell=='Cinergy Field':\n",
    "        cell='45202'\n",
    "    elif cell== 'Heinz Field' or cell=='Three Rivers Stadium':\n",
    "        cell='15212'\n",
    "    elif cell== 'Sports Authority Field at Mile High' or cell=='Mile High Stadium':\n",
    "        cell='80204'\n",
    "    elif cell== 'Gillette Stadium' or cell=='Foxboro Stadium':  \n",
    "        cell='02035'\n",
    "    elif cell=='CenturyLink Field' or cell=='Seattle Kingdome':\n",
    "        cell='98134'\n",
    "    elif cell=='Ford Field' or cell=='Pontiac Silverdome':\n",
    "        cell='48226'  \n",
    "    elif cell=='Lincoln Financial Field' or cell=='Veterans Stadium':\n",
    "        cell='19148'\n",
    "    elif cell=='Los Angeles Memorial Coliseum':\n",
    "        cell='90037'   \n",
    "    elif cell=='Anaheim Stadium':\n",
    "        cell='92806' \n",
    "    elif cell=='Sun Devil Stadium':\n",
    "        cell='85287' \n",
    "    elif cell=='Wembley Stadium':\n",
    "        cell=''\n",
    "    elif cell=='Husky Stadium':\n",
    "        cell='98195'\n",
    "    elif cell== 'TCF Bank Stadium':\n",
    "        cell= '55455'\n",
    "    elif cell=='Memorial Stadium (Baltimore)':\n",
    "        cell='21218'\n",
    "    elif cell=='StubHub Center':\n",
    "        cell= '90746'\n",
    "    elif cell=='Memorial Stadium (Champaign)':\n",
    "        cell='61820'\n",
    "    elif cell=='Vanderbilt Stadium':\n",
    "        cell='37203'\n",
    "    elif cell=='Rogers Centre':\n",
    "        cell=''\n",
    "    elif cell=='Tiger Stadium (LSU)':\n",
    "        cell='70803'\n",
    "    elif cell=='Busch Memorial Stadium':\n",
    "        cell='63102'\n",
    "    elif cell=='Twickenham Stadium':\n",
    "        cell=''\n",
    "    elif cell=='Alamo Dome':\n",
    "        cell='78203'\n",
    "    elif cell=='Estadio Azteca':\n",
    "        cell=''\n",
    "    elif cell=='Tottenham Stadium':\n",
    "        cell=''\n",
    "    elif cell==('Reliant Stadium')or cell== ('NRG Stadium')  or cell == ('Houston Astrodome'):\n",
    "        cell = '77054'\n",
    "    elif cell==('Memorial Stadium (Clemson)'):\n",
    "        cell = '29634'\n",
    "    elif cell==('Liberty Bowl Memorial Stadium'):\n",
    "        cell = '38104'\n",
    "    return cell"
   ]
  },
  {
   "cell_type": "code",
   "execution_count": 10,
   "metadata": {
    "ExecuteTime": {
     "end_time": "2019-06-26T20:18:19.151391Z",
     "start_time": "2019-06-26T20:18:19.064588Z"
    },
    "code_folding": [
     3
    ]
   },
   "outputs": [],
   "source": [
    "# takes a pro football stadium and return its coordinates\n",
    "# TODO: take a look at a geocoding API for converting an address into a lat/lng, e.g. Google, HERE, Mapbox, ESRI, Nominatim\n",
    "\n",
    "def stadCord(cell):\n",
    "    if cell==('Giants Stadium') or cell== ('MetLife Stadium'):\n",
    "        cell= (40.8135 , -74.0745)\n",
    "    elif cell=='Lambeau Field':\n",
    "        cell=(44.5013, -88.0622)\n",
    "    elif cell=='Arrowhead Stadium':\n",
    "        cell=(39.0489, -94.4839)\n",
    "    elif cell== 'Soldier Field':\n",
    "        cell=(41.8623, -87.6167)\n",
    "    elif cell==('Louisiana Superdome')or cell== ('Mercedes-Benz Superdome'):\n",
    "        cell = (29.9511, -90.0812)\n",
    "    elif cell=='Qualcomm Stadium':\n",
    "        cell= (32.7764, -117.1183)\n",
    "    elif cell=='Sun Life Stadium'or cell=='Hard Rock Stadium':\n",
    "        cell=(25.9580, -80.2389)\n",
    "    elif cell== 'Ralph Wilson Stadium' or cell=='New Era Field':\n",
    "        cell= (42.7738, -78.7870)\n",
    "    elif cell== 'Georgia Dome' or cell=='Atlanta-Fulton County Stadium' :\n",
    "        cell=(33.7577, -84.4008)\n",
    "    elif cell == 'Candlestick Park' or cell=='Levi\\'s Stadium':\n",
    "        cell= (37.7136, -122.3861)\n",
    "    elif cell == 'University of Phoenix Stadium':\n",
    "        cell= (33.5276, -112.2626)\n",
    "    elif cell=='Oakland Coliseum':\n",
    "        cell= (37.7516, -122.2005)\n",
    "    elif cell== 'Bank of America Stadium':\n",
    "        cell =(35.2258, -80.8528)\n",
    "    elif cell== 'EverBank Field' or cell=='TIAA Bank Field':\n",
    "        cell=(30.3238, -81.6375)\n",
    "    elif cell== 'FedEx Field' or cell== 'RFK Memorial Stadium':\n",
    "        cell=(38.9077, -76.8644)\n",
    "    elif cell== 'Hubert H. Humphrey Metrodome' or cell=='Mall of America Field' or cell=='U.S. Bank Stadium':\n",
    "        cell=(44.9738, -93.2580)\n",
    "    elif cell== 'Edward Jones Dome':  \n",
    "        cell=(38.6327, -90.1886)\n",
    "    elif cell=='Texas Stadium' or cell=='Cowboys Stadium' or cell=='AT&T Stadium':\n",
    "        cell=(32.84, -96.911)\n",
    "    elif cell== 'M&T Bank Stadium':\n",
    "        cell=(39.2780, -76.6227)\n",
    "    elif cell== 'RCA Dome' or cell=='Lucas Oil Stadium':\n",
    "        cell=(39.7636, -86.1633)\n",
    "    elif cell== 'Raymond James Stadium' or cell=='Houlihan\\'s Stadium':  \n",
    "        cell=(27.9758, -82.5033)\n",
    "    elif cell=='FirstEnergy Stadium' or cell=='Cleveland Municipal Stadium':\n",
    "        cell=(41.5066, -81.6972)   \n",
    "    elif cell== 'Nissan Stadium'or cell=='LP Stadium':  \n",
    "        cell=(36.1663, -86.7713)\n",
    "    elif cell=='Paul Brown Stadium' or cell=='Cinergy Field':\n",
    "        cell=(39.095, -84.516)\n",
    "    elif cell== 'Heinz Field' or cell=='Three Rivers Stadium':\n",
    "        cell=(40.4466, -80.0158)\n",
    "    elif cell== 'Sports Authority Field at Mile High' or cell=='Mile High Stadium':\n",
    "        cell=(39.7438, -105.02)\n",
    "    elif cell== 'Gillette Stadium' or cell=='Foxboro Stadium':  \n",
    "        cell=(42.0909, -71.2643)\n",
    "    elif cell=='CenturyLink Field' or cell=='Seattle Kingdome':\n",
    "        cell=(47.5952, -122.3316)  \n",
    "    elif cell=='Ford Field' or cell=='Pontiac Silverdome':\n",
    "        cell=(42.34, -83.0455)  \n",
    "    elif cell=='Lincoln Financial Field' or cell=='Veterans Stadium':\n",
    "        cell=(39.9008, -75.1675) \n",
    "    elif cell=='Los Angeles Memorial Coliseum':\n",
    "        cell=(34.0141, -118.2877)     \n",
    "    elif cell=='Anaheim Stadium':\n",
    "        cell=(33.8002, -117.8827)  \n",
    "    elif cell=='Sun Devil Stadium':\n",
    "        cell=(33.4263, -111.93)  \n",
    "    elif cell=='Wembley Stadium':\n",
    "        cell=(51.5558, -0.2797)\n",
    "    elif cell=='Husky Stadium':\n",
    "        cell=(47.6502, -122.3016)\n",
    "    elif cell== 'TCF Bank Stadium':\n",
    "        cell= (44.976, -93.225)\n",
    "    elif cell=='Memorial Stadium (Baltimore)':\n",
    "        cell=(39.3294, -76.6013)\n",
    "    elif cell=='StubHub Center':\n",
    "        cell=(33.864, -118.261)\n",
    "    elif cell=='Memorial Stadium (Champaign)':\n",
    "        cell=(40.0991, -88.2358)\n",
    "    elif cell=='Vanderbilt Stadium':\n",
    "        cell=(36.1441, -86.8088)\n",
    "    elif cell=='Rogers Centre':\n",
    "        cell=(43.6413, -79.3891)\n",
    "    elif cell=='Tiger Stadium (LSU)':\n",
    "        cell=(30.4119, -91.1855)\n",
    "    elif cell=='Busch Memorial Stadium':\n",
    "        cell=(38.6238, -90.1925)\n",
    "    elif cell=='Twickenham Stadium':\n",
    "        cell=(51.4561, -0.3416)\n",
    "    elif cell=='Alamo Dome':\n",
    "        cell=(29.4169, -98.4788)\n",
    "    elif cell=='Estadio Azteca':\n",
    "        cell=(19.3029, -99.1504)\n",
    "    elif cell=='Tottenham Stadium':\n",
    "        cell=(51.6044, -0.0663)\n",
    "        \n",
    "    elif cell==('Reliant Stadium')or cell == ('NRG Stadium') or cell == ('Houston Astrodome'):\n",
    "        cell = (29.6847, -95.4107)\n",
    "    elif cell==('Memorial Stadium (Clemson)'):\n",
    "        cell = (34.6788, -82.8432)\n",
    "    elif cell==('Liberty Bowl Memorial Stadium'):\n",
    "        cell = (35.1211, -89.9774)\n",
    "        \n",
    "    return cell"
   ]
  },
  {
   "cell_type": "code",
   "execution_count": 11,
   "metadata": {
    "ExecuteTime": {
     "end_time": "2019-06-26T20:18:50.561918Z",
     "start_time": "2019-06-26T20:18:50.547987Z"
    },
    "code_folding": [
     3
    ]
   },
   "outputs": [],
   "source": [
    "#changes the date format to be web scrape friendly\n",
    "def dateSwitch(cell):\n",
    "    cell = cell[6:] + cell[5] + cell[0:3] + cell[3:5]\n",
    "    cell = cell.replace('/', '-')\n",
    "    return cell"
   ]
  },
  {
   "cell_type": "code",
   "execution_count": 12,
   "metadata": {
    "ExecuteTime": {
     "end_time": "2019-06-26T20:18:55.143444Z",
     "start_time": "2019-06-26T20:18:54.973119Z"
    }
   },
   "outputs": [],
   "source": [
    "# TODO: read-up on the dangers of using .copy() with dataframes\n",
    "# Suggestion: self-documenting code, e.g. instead of ppdf, use df_junk, df_test, df_copy...\n",
    "ppdf = df.copy()\n",
    "\n",
    "# apply teamSwitch to data\n",
    "ppdf.team_home = ppdf.team_home.apply(teamSwitch)\n",
    "ppdf.team_away = ppdf.team_away.apply(teamSwitch)\n",
    "\n",
    "# create a column to show if the home team is favored\n",
    "homefave = ppdf.team_home == ppdf.team_favorite_id\n",
    "ppdf['home_fave'] = homefave\n",
    "\n",
    "# create a column to show the total points scored by both teams\n",
    "ppdf['total'] = ppdf.score_home + ppdf.score_away"
   ]
  },
  {
   "cell_type": "code",
   "execution_count": 13,
   "metadata": {
    "ExecuteTime": {
     "end_time": "2019-06-26T20:18:59.206683Z",
     "start_time": "2019-06-26T20:18:59.140850Z"
    }
   },
   "outputs": [],
   "source": [
    "# Add stadium coordinates\n",
    "col = ppdf.copy()\n",
    "col.stadium = col.stadium.apply(stadCord)\n",
    "ppdf['coordinates'] = col.stadium\n",
    "col = ppdf.copy()\n",
    "\n",
    "# Add zipcode\n",
    "col.stadium = col.stadium.apply(zipCode)\n",
    "ppdf['zipcode'] = col.stadium"
   ]
  },
  {
   "cell_type": "code",
   "execution_count": 14,
   "metadata": {
    "ExecuteTime": {
     "end_time": "2019-06-26T20:19:02.399899Z",
     "start_time": "2019-06-26T20:19:01.845170Z"
    }
   },
   "outputs": [],
   "source": [
    "# reformat dates\n",
    "# TODO: look into the efficiency of doing map vs apply vs ...?\n",
    "ppdf.schedule_week = ppdf.schedule_week.apply(weekNums)\n",
    "ppdf = ppdf[ppdf.zipcode != '']\n",
    "ppdf.schedule_date = ppdf.schedule_date.apply(dateSwitch)"
   ]
  },
  {
   "cell_type": "code",
   "execution_count": 15,
   "metadata": {
    "ExecuteTime": {
     "end_time": "2019-06-26T20:21:08.627871Z",
     "start_time": "2019-06-26T20:20:57.865006Z"
    }
   },
   "outputs": [],
   "source": [
    "# Create a dict, result, to track how teams do compared to the spread. If favorite wins, the number is negative and  the number is positive if the underdog wins\n",
    "# Initialize empty dict\n",
    "result = {}\n",
    "\n",
    "# loop through dataFrame index to populate dict with keys from the index  and values from columns\n",
    "# TODO: look into how you could make the below more efficient... maybe a one-liner\n",
    "for x in ppdf.index:\n",
    "    if ppdf.loc[x]['home_fave'] == True:\n",
    "        result[x] = ppdf.loc[x]['score_away'] - ppdf.loc[x]['score_home']\n",
    "    else:\n",
    "        result[x] = ppdf.loc[x]['score_home'] - ppdf.loc[x]['score_away']"
   ]
  },
  {
   "cell_type": "code",
   "execution_count": 16,
   "metadata": {
    "ExecuteTime": {
     "end_time": "2019-06-26T20:23:51.729339Z",
     "start_time": "2019-06-26T20:23:51.674790Z"
    },
    "scrolled": true
   },
   "outputs": [],
   "source": [
    "#create new column for result\n",
    "result = pd.Series(result)\n",
    "ppdf['results'] = result\n",
    "ppdf['results-spread'] = ppdf['results'] - ppdf['spread_favorite']\n",
    "\n",
    "#using the new results column, create a bolean series to become a new column to indicate if the spread ws covered\n",
    "cover = ppdf.results < ppdf.spread_favorite\n",
    "ppdf['favorite_cover'] = cover\n",
    "\n",
    "#create a boolean series to make a column to indicate if the over was reached\n",
    "ppdf['over_under_line'] = ppdf['over_under_line'].astype(float)\n",
    "over = ppdf['total'] > ppdf['over_under_line']\n",
    "ppdf['over_cover'] = over\n",
    "over_diff = ppdf.over_under_line - ppdf.total\n",
    "ppdf['over_diff'] = over_diff\n",
    "\n",
    "#rearrange columns for more readable DataFrame\n",
    "ppdf = ppdf[[\n",
    "    'schedule_date', 'schedule_season', 'schedule_week', 'team_home',\n",
    "    'score_home', 'score_away', 'team_away', 'team_favorite_id',\n",
    "    'spread_favorite', 'results', 'results-spread', 'favorite_cover',\n",
    "    'over_under_line', 'total', 'over_diff', 'over_cover',\n",
    "    'weather_temperature', 'weather_wind_mph', 'stadium', 'coordinates',\n",
    "    'zipcode'\n",
    "]]"
   ]
  },
  {
   "cell_type": "code",
   "execution_count": 17,
   "metadata": {
    "ExecuteTime": {
     "end_time": "2019-06-26T20:23:58.972148Z",
     "start_time": "2019-06-26T20:23:57.707523Z"
    }
   },
   "outputs": [
    {
     "data": {
      "text/plain": [
       "'0.49'"
      ]
     },
     "execution_count": 17,
     "metadata": {},
     "output_type": "execute_result"
    }
   ],
   "source": [
    "#Test path to see if we are getting the right data\n",
    "pracdf = ppdf.copy()\n",
    "page = r.get('https://www.almanac.com/weather/history/zipcode/' +\n",
    "             pracdf.loc[4450]['zipcode'] + '/' +\n",
    "             pracdf.loc[4450]['schedule_date'])\n",
    "soup = BeautifulSoup(page.content, 'html.parser')\n",
    "prcp = soup.find('tr', class_='weatherhistory_results_datavalue prcp')\n",
    "data = prcp.find('td')\n",
    "nxt = data.find('p')\n",
    "point = nxt.find(class_='value')\n",
    "point.get_text()"
   ]
  },
  {
   "cell_type": "code",
   "execution_count": 23,
   "metadata": {
    "ExecuteTime": {
     "end_time": "2019-06-26T20:26:34.497068Z",
     "start_time": "2019-06-26T20:26:34.381196Z"
    }
   },
   "outputs": [
    {
     "data": {
      "text/html": [
       "<div>\n",
       "<style scoped>\n",
       "    .dataframe tbody tr th:only-of-type {\n",
       "        vertical-align: middle;\n",
       "    }\n",
       "\n",
       "    .dataframe tbody tr th {\n",
       "        vertical-align: top;\n",
       "    }\n",
       "\n",
       "    .dataframe thead th {\n",
       "        text-align: right;\n",
       "    }\n",
       "</style>\n",
       "<table border=\"1\" class=\"dataframe\">\n",
       "  <thead>\n",
       "    <tr style=\"text-align: right;\">\n",
       "      <th></th>\n",
       "      <th>schedule_date</th>\n",
       "      <th>schedule_season</th>\n",
       "      <th>schedule_week</th>\n",
       "      <th>team_home</th>\n",
       "      <th>score_home</th>\n",
       "      <th>score_away</th>\n",
       "      <th>team_away</th>\n",
       "      <th>team_favorite_id</th>\n",
       "      <th>spread_favorite</th>\n",
       "      <th>results</th>\n",
       "      <th>...</th>\n",
       "      <th>favorite_cover</th>\n",
       "      <th>over_under_line</th>\n",
       "      <th>total</th>\n",
       "      <th>over_diff</th>\n",
       "      <th>over_cover</th>\n",
       "      <th>weather_temperature</th>\n",
       "      <th>weather_wind_mph</th>\n",
       "      <th>stadium</th>\n",
       "      <th>coordinates</th>\n",
       "      <th>zipcode</th>\n",
       "    </tr>\n",
       "  </thead>\n",
       "  <tbody>\n",
       "    <tr>\n",
       "      <th>4450</th>\n",
       "      <td>1988-09-04</td>\n",
       "      <td>1988</td>\n",
       "      <td>1</td>\n",
       "      <td>BUF</td>\n",
       "      <td>13.0</td>\n",
       "      <td>10.0</td>\n",
       "      <td>MIN</td>\n",
       "      <td>MIN</td>\n",
       "      <td>-2.5</td>\n",
       "      <td>3.0</td>\n",
       "      <td>...</td>\n",
       "      <td>False</td>\n",
       "      <td>44.0</td>\n",
       "      <td>23.0</td>\n",
       "      <td>21.0</td>\n",
       "      <td>False</td>\n",
       "      <td>68.0</td>\n",
       "      <td>11.0</td>\n",
       "      <td>Ralph Wilson Stadium</td>\n",
       "      <td>(42.7738, -78.787)</td>\n",
       "      <td>14127</td>\n",
       "    </tr>\n",
       "    <tr>\n",
       "      <th>4451</th>\n",
       "      <td>1988-09-04</td>\n",
       "      <td>1988</td>\n",
       "      <td>1</td>\n",
       "      <td>CHI</td>\n",
       "      <td>34.0</td>\n",
       "      <td>7.0</td>\n",
       "      <td>MIA</td>\n",
       "      <td>CHI</td>\n",
       "      <td>-3.5</td>\n",
       "      <td>-27.0</td>\n",
       "      <td>...</td>\n",
       "      <td>True</td>\n",
       "      <td>46.0</td>\n",
       "      <td>41.0</td>\n",
       "      <td>5.0</td>\n",
       "      <td>False</td>\n",
       "      <td>66.0</td>\n",
       "      <td>16.0</td>\n",
       "      <td>Soldier Field</td>\n",
       "      <td>(41.8623, -87.6167)</td>\n",
       "      <td>60605</td>\n",
       "    </tr>\n",
       "    <tr>\n",
       "      <th>4452</th>\n",
       "      <td>1988-09-04</td>\n",
       "      <td>1988</td>\n",
       "      <td>1</td>\n",
       "      <td>CIN</td>\n",
       "      <td>21.0</td>\n",
       "      <td>14.0</td>\n",
       "      <td>ARI</td>\n",
       "      <td>CIN</td>\n",
       "      <td>-5.5</td>\n",
       "      <td>-7.0</td>\n",
       "      <td>...</td>\n",
       "      <td>True</td>\n",
       "      <td>47.0</td>\n",
       "      <td>35.0</td>\n",
       "      <td>12.0</td>\n",
       "      <td>False</td>\n",
       "      <td>68.0</td>\n",
       "      <td>10.0</td>\n",
       "      <td>Cinergy Field</td>\n",
       "      <td>(39.095, -84.516)</td>\n",
       "      <td>45202</td>\n",
       "    </tr>\n",
       "    <tr>\n",
       "      <th>4453</th>\n",
       "      <td>1988-09-04</td>\n",
       "      <td>1988</td>\n",
       "      <td>1</td>\n",
       "      <td>DEN</td>\n",
       "      <td>14.0</td>\n",
       "      <td>21.0</td>\n",
       "      <td>SEA</td>\n",
       "      <td>DEN</td>\n",
       "      <td>-4.0</td>\n",
       "      <td>7.0</td>\n",
       "      <td>...</td>\n",
       "      <td>False</td>\n",
       "      <td>46.0</td>\n",
       "      <td>35.0</td>\n",
       "      <td>11.0</td>\n",
       "      <td>False</td>\n",
       "      <td>62.0</td>\n",
       "      <td>9.0</td>\n",
       "      <td>Mile High Stadium</td>\n",
       "      <td>(39.7438, -105.02)</td>\n",
       "      <td>80204</td>\n",
       "    </tr>\n",
       "    <tr>\n",
       "      <th>4454</th>\n",
       "      <td>1988-09-04</td>\n",
       "      <td>1988</td>\n",
       "      <td>1</td>\n",
       "      <td>DET</td>\n",
       "      <td>31.0</td>\n",
       "      <td>17.0</td>\n",
       "      <td>ATL</td>\n",
       "      <td>DET</td>\n",
       "      <td>-4.0</td>\n",
       "      <td>-14.0</td>\n",
       "      <td>...</td>\n",
       "      <td>True</td>\n",
       "      <td>43.0</td>\n",
       "      <td>48.0</td>\n",
       "      <td>-5.0</td>\n",
       "      <td>True</td>\n",
       "      <td>72.0</td>\n",
       "      <td>0.0</td>\n",
       "      <td>Pontiac Silverdome</td>\n",
       "      <td>(42.34, -83.0455)</td>\n",
       "      <td>48226</td>\n",
       "    </tr>\n",
       "  </tbody>\n",
       "</table>\n",
       "<p>5 rows × 21 columns</p>\n",
       "</div>"
      ],
      "text/plain": [
       "     schedule_date  schedule_season  schedule_week team_home  score_home  \\\n",
       "4450    1988-09-04             1988              1       BUF        13.0   \n",
       "4451    1988-09-04             1988              1       CHI        34.0   \n",
       "4452    1988-09-04             1988              1       CIN        21.0   \n",
       "4453    1988-09-04             1988              1       DEN        14.0   \n",
       "4454    1988-09-04             1988              1       DET        31.0   \n",
       "\n",
       "      score_away team_away team_favorite_id  spread_favorite  results   ...    \\\n",
       "4450        10.0       MIN              MIN             -2.5      3.0   ...     \n",
       "4451         7.0       MIA              CHI             -3.5    -27.0   ...     \n",
       "4452        14.0       ARI              CIN             -5.5     -7.0   ...     \n",
       "4453        21.0       SEA              DEN             -4.0      7.0   ...     \n",
       "4454        17.0       ATL              DET             -4.0    -14.0   ...     \n",
       "\n",
       "      favorite_cover  over_under_line  total  over_diff  over_cover  \\\n",
       "4450           False             44.0   23.0       21.0       False   \n",
       "4451            True             46.0   41.0        5.0       False   \n",
       "4452            True             47.0   35.0       12.0       False   \n",
       "4453           False             46.0   35.0       11.0       False   \n",
       "4454            True             43.0   48.0       -5.0        True   \n",
       "\n",
       "      weather_temperature  weather_wind_mph               stadium  \\\n",
       "4450                 68.0              11.0  Ralph Wilson Stadium   \n",
       "4451                 66.0              16.0         Soldier Field   \n",
       "4452                 68.0              10.0         Cinergy Field   \n",
       "4453                 62.0               9.0     Mile High Stadium   \n",
       "4454                 72.0               0.0    Pontiac Silverdome   \n",
       "\n",
       "              coordinates zipcode  \n",
       "4450   (42.7738, -78.787)   14127  \n",
       "4451  (41.8623, -87.6167)   60605  \n",
       "4452    (39.095, -84.516)   45202  \n",
       "4453   (39.7438, -105.02)   80204  \n",
       "4454    (42.34, -83.0455)   48226  \n",
       "\n",
       "[5 rows x 21 columns]"
      ]
     },
     "execution_count": 23,
     "metadata": {},
     "output_type": "execute_result"
    }
   ],
   "source": [
    "pracdf.head()"
   ]
  },
  {
   "cell_type": "code",
   "execution_count": 22,
   "metadata": {
    "ExecuteTime": {
     "end_time": "2019-06-26T20:26:07.961624Z",
     "start_time": "2019-06-26T20:26:07.946520Z"
    }
   },
   "outputs": [
    {
     "name": "stdout",
     "output_type": "stream",
     "text": [
      "col 0: schedule_date\n",
      "col 1: schedule_season\n",
      "col 2: schedule_week\n",
      "col 3: team_home\n",
      "col 4: score_home\n",
      "col 5: score_away\n",
      "col 6: team_away\n",
      "col 7: team_favorite_id\n",
      "col 8: spread_favorite\n",
      "col 9: results\n",
      "col 10: results-spread\n",
      "col 11: favorite_cover\n",
      "col 12: over_under_line\n",
      "col 13: total\n",
      "col 14: over_diff\n",
      "col 15: over_cover\n",
      "col 16: weather_temperature\n",
      "col 17: weather_wind_mph\n",
      "col 18: stadium\n",
      "col 19: coordinates\n",
      "col 20: zipcode\n"
     ]
    }
   ],
   "source": [
    "for i, col in enumerate(pracdf.columns):\n",
    "    print('col {}: {}'.format(i, col))"
   ]
  },
  {
   "cell_type": "code",
   "execution_count": null,
   "metadata": {
    "ExecuteTime": {
     "end_time": "2019-06-26T20:46:18.692897Z",
     "start_time": "2019-06-26T20:45:31.520901Z"
    }
   },
   "outputs": [],
   "source": [
    "#create dic to store values\n",
    "precipitation = {}\n",
    "\n",
    "# loop through index and populate dict with precipitation data\n",
    "# TODO: look into how to efficiently loop over a dataframe\n",
    "for i in pracdf.index:\n",
    "    # temp debug continue\n",
    "    #if pracdf.loc[i]['team_home'] != 'DET':\n",
    "    #    continue\n",
    "    print('Working on: {} -- {} v {}'.format(pracdf.loc[i]['schedule_date'], pracdf.loc[i]['team_home'], pracdf.loc[i]['team_away']))\n",
    "    page = r.get('https://www.almanac.com/weather/history/zipcode/' +\n",
    "                 pracdf.loc[i]['zipcode'] + '/' +\n",
    "                 pracdf.loc[i]['schedule_date'])\n",
    "    soup = BeautifulSoup(page.content, 'html.parser')\n",
    "    prcp = soup.find('tr', class_='weatherhistory_results_datavalue prcp')\n",
    "    data = prcp.find('td')\n",
    "    nxt = data.find('p')\n",
    "    #print('---->>>>>', )\n",
    "    #print('---->>>>>', nxt.find(class_='nullvalue'))\n",
    "    if nxt.get_text() == 'No data.':\n",
    "        print('WARNING: no precipitation data for date and game')\n",
    "        precipitation[i] = -999\n",
    "    else:\n",
    "        point = nxt.find(class_='value')\n",
    "        #print('---->>>>>', point)#, point.get_text())\n",
    "        precipitation[i] = point.get_text()\n",
    "precipitation = pd.Series(precipitation)"
   ]
  },
  {
   "cell_type": "code",
   "execution_count": 45,
   "metadata": {
    "ExecuteTime": {
     "end_time": "2019-06-26T20:46:18.692897Z",
     "start_time": "2019-06-26T20:45:31.520901Z"
    },
    "scrolled": true
   },
   "outputs": [
    {
     "name": "stdout",
     "output_type": "stream",
     "text": [
      "Working on: 1988-09-04 -- BUF v MIN\n",
      "Working on: 1988-09-04 -- CHI v MIA\n",
      "Working on: 1988-09-04 -- CIN v ARI\n",
      "Working on: 1988-09-04 -- DEN v SEA\n",
      "Working on: 1988-09-04 -- DET v ATL\n",
      "Working on: 1988-09-04 -- GB v LAR\n",
      "Working on: 1988-09-04 -- IND v TEN\n",
      "Working on: 1988-09-04 -- KC v CLE\n",
      "Working on: 1988-09-04 -- OAK v LAC\n",
      "Working on: 1988-09-04 -- NE v NYJ\n",
      "Working on: 1988-09-04 -- NO v SF\n",
      "Working on: 1988-09-04 -- PIT v DAL\n",
      "Working on: 1988-09-04 -- TB v PHI\n",
      "Working on: 1988-09-05 -- NYG v WAS\n",
      "Working on: 1988-09-11 -- ATL v NO\n",
      "Working on: 1988-09-11 -- BUF v MIA\n",
      "Working on: 1988-09-11 -- CLE v NYJ\n",
      "Working on: 1988-09-11 -- DEN v LAC\n",
      "Working on: 1988-09-11 -- GB v TB\n",
      "Working on: 1988-09-11 -- TEN v OAK\n",
      "Working on: 1988-09-11 -- IND v CHI\n",
      "Working on: 1988-09-11 -- LAR v DET\n",
      "Working on: 1988-09-11 -- MIN v NE\n",
      "Working on: 1988-09-11 -- NYG v SF\n",
      "Working on: 1988-09-11 -- PHI v CIN\n",
      "Working on: 1988-09-11 -- SEA v KC\n",
      "Working on: 1988-09-11 -- WAS v PIT\n",
      "Working on: 1988-09-12 -- ARI v DAL\n",
      "Working on: 1988-09-18 -- CHI v MIN\n",
      "Working on: 1988-09-18 -- DAL v NYG\n",
      "Working on: 1988-09-18 -- DET v NO\n",
      "Working on: 1988-09-18 -- KC v DEN\n",
      "Working on: 1988-09-18 -- OAK v LAR\n",
      "Working on: 1988-09-18 -- MIA v GB\n",
      "Working on: 1988-09-18 -- NE v BUF\n",
      "Working on: 1988-09-18 -- NYJ v TEN\n",
      "Working on: 1988-09-18 -- PIT v CIN\n",
      "Working on: 1988-09-18 -- LAC v SEA\n",
      "Working on: 1988-09-18 -- SF v ATL\n",
      "Working on: 1988-09-18 -- TB v ARI\n",
      "Working on: 1988-09-18 -- WAS v PHI\n",
      "Working on: 1988-09-19 -- CLE v IND\n",
      "Working on: 1988-09-25 -- BUF v PIT\n",
      "Working on: 1988-09-25 -- CIN v CLE\n",
      "Working on: 1988-09-25 -- DAL v ATL\n",
      "Working on: 1988-09-25 -- DET v NYJ\n",
      "Working on: 1988-09-25 -- GB v CHI\n",
      "Working on: 1988-09-25 -- TEN v NE\n",
      "Working on: 1988-09-25 -- IND v MIA\n",
      "Working on: 1988-09-25 -- KC v LAC\n",
      "Working on: 1988-09-25 -- MIN v PHI\n",
      "Working on: 1988-09-25 -- NO v TB\n",
      "Working on: 1988-09-25 -- NYG v LAR\n",
      "Working on: 1988-09-25 -- ARI v WAS\n",
      "Working on: 1988-09-25 -- SEA v SF\n",
      "Working on: 1988-09-26 -- DEN v OAK\n",
      "Working on: 1988-10-02 -- ATL v SEA\n",
      "Working on: 1988-10-02 -- CHI v BUF\n",
      "Working on: 1988-10-02 -- OAK v CIN\n",
      "Working on: 1988-10-02 -- LAR v ARI\n",
      "Working on: 1988-10-02 -- MIA v MIN\n",
      "Working on: 1988-10-02 -- NE v IND\n",
      "Working on: 1988-10-02 -- NYJ v KC\n",
      "Working on: 1988-10-02 -- PHI v TEN\n",
      "Working on: 1988-10-02 -- PIT v CLE\n",
      "Working on: 1988-10-02 -- LAC v DEN\n",
      "Working on: 1988-10-02 -- SF v DET\n",
      "Working on: 1988-10-02 -- TB v GB\n",
      "Working on: 1988-10-02 -- WAS v NYG\n",
      "Working on: 1988-10-03 -- NO v DAL\n",
      "Working on: 1988-10-09 -- ATL v LAR\n",
      "Working on: 1988-10-09 -- BUF v IND\n",
      "Working on: 1988-10-09 -- CIN v NYJ\n",
      "Working on: 1988-10-09 -- CLE v SEA\n",
      "Working on: 1988-10-09 -- DAL v WAS\n",
      "Working on: 1988-10-09 -- DET v CHI\n",
      "WARNING: no precipitation data for date and game\n",
      "Working on: 1988-10-09 -- GB v NE\n",
      "Working on: 1988-10-09 -- TEN v KC\n",
      "Working on: 1988-10-09 -- OAK v MIA\n",
      "Working on: 1988-10-09 -- MIN v TB\n",
      "Working on: 1988-10-09 -- ARI v PIT\n",
      "Working on: 1988-10-09 -- LAC v NO\n",
      "Working on: 1988-10-09 -- SF v DEN\n",
      "Working on: 1988-10-10 -- PHI v NYG\n",
      "Working on: 1988-10-16 -- CHI v DAL\n",
      "Working on: 1988-10-16 -- CLE v PHI\n",
      "Working on: 1988-10-16 -- DEN v ATL\n",
      "Working on: 1988-10-16 -- IND v TB\n",
      "Working on: 1988-10-16 -- KC v OAK\n",
      "Working on: 1988-10-16 -- LAR v SF\n",
      "Working on: 1988-10-16 -- MIA v LAC\n",
      "Working on: 1988-10-16 -- MIN v GB\n",
      "Working on: 1988-10-16 -- NE v CIN\n",
      "Working on: 1988-10-16 -- NYG v DET\n",
      "Working on: 1988-10-16 -- PIT v TEN\n",
      "Working on: 1988-10-16 -- SEA v NO\n",
      "Working on: 1988-10-16 -- WAS v ARI\n",
      "Working on: 1988-10-17 -- NYJ v BUF\n",
      "Working on: 1988-10-23 -- ATL v NYG\n",
      "Working on: 1988-10-23 -- BUF v NE\n",
      "Working on: 1988-10-23 -- CIN v TEN\n"
     ]
    },
    {
     "ename": "KeyboardInterrupt",
     "evalue": "",
     "output_type": "error",
     "traceback": [
      "\u001b[0;31m---------------------------------------------------------------------------\u001b[0m",
      "\u001b[0;31mTypeError\u001b[0m                                 Traceback (most recent call last)",
      "\u001b[0;32m/usr/local/lib/python3.7/site-packages/urllib3/connectionpool.py\u001b[0m in \u001b[0;36m_make_request\u001b[0;34m(self, conn, method, url, timeout, chunked, **httplib_request_kw)\u001b[0m\n\u001b[1;32m    376\u001b[0m             \u001b[0;32mtry\u001b[0m\u001b[0;34m:\u001b[0m  \u001b[0;31m# Python 2.7, use buffering of HTTP responses\u001b[0m\u001b[0;34m\u001b[0m\u001b[0;34m\u001b[0m\u001b[0m\n\u001b[0;32m--> 377\u001b[0;31m                 \u001b[0mhttplib_response\u001b[0m \u001b[0;34m=\u001b[0m \u001b[0mconn\u001b[0m\u001b[0;34m.\u001b[0m\u001b[0mgetresponse\u001b[0m\u001b[0;34m(\u001b[0m\u001b[0mbuffering\u001b[0m\u001b[0;34m=\u001b[0m\u001b[0;32mTrue\u001b[0m\u001b[0;34m)\u001b[0m\u001b[0;34m\u001b[0m\u001b[0;34m\u001b[0m\u001b[0m\n\u001b[0m\u001b[1;32m    378\u001b[0m             \u001b[0;32mexcept\u001b[0m \u001b[0mTypeError\u001b[0m\u001b[0;34m:\u001b[0m  \u001b[0;31m# Python 2.6 and older, Python 3\u001b[0m\u001b[0;34m\u001b[0m\u001b[0;34m\u001b[0m\u001b[0m\n",
      "\u001b[0;31mTypeError\u001b[0m: getresponse() got an unexpected keyword argument 'buffering'",
      "\nDuring handling of the above exception, another exception occurred:\n",
      "\u001b[0;31mKeyboardInterrupt\u001b[0m                         Traceback (most recent call last)",
      "\u001b[0;32m<ipython-input-45-2e1cd350603b>\u001b[0m in \u001b[0;36m<module>\u001b[0;34m\u001b[0m\n\u001b[1;32m     11\u001b[0m     page = r.get('https://www.almanac.com/weather/history/zipcode/' +\n\u001b[1;32m     12\u001b[0m                  \u001b[0mpracdf\u001b[0m\u001b[0;34m.\u001b[0m\u001b[0mloc\u001b[0m\u001b[0;34m[\u001b[0m\u001b[0mi\u001b[0m\u001b[0;34m]\u001b[0m\u001b[0;34m[\u001b[0m\u001b[0;34m'zipcode'\u001b[0m\u001b[0;34m]\u001b[0m \u001b[0;34m+\u001b[0m \u001b[0;34m'/'\u001b[0m \u001b[0;34m+\u001b[0m\u001b[0;34m\u001b[0m\u001b[0;34m\u001b[0m\u001b[0m\n\u001b[0;32m---> 13\u001b[0;31m                  pracdf.loc[i]['schedule_date'])\n\u001b[0m\u001b[1;32m     14\u001b[0m     \u001b[0msoup\u001b[0m \u001b[0;34m=\u001b[0m \u001b[0mBeautifulSoup\u001b[0m\u001b[0;34m(\u001b[0m\u001b[0mpage\u001b[0m\u001b[0;34m.\u001b[0m\u001b[0mcontent\u001b[0m\u001b[0;34m,\u001b[0m \u001b[0;34m'html.parser'\u001b[0m\u001b[0;34m)\u001b[0m\u001b[0;34m\u001b[0m\u001b[0;34m\u001b[0m\u001b[0m\n\u001b[1;32m     15\u001b[0m     \u001b[0mprcp\u001b[0m \u001b[0;34m=\u001b[0m \u001b[0msoup\u001b[0m\u001b[0;34m.\u001b[0m\u001b[0mfind\u001b[0m\u001b[0;34m(\u001b[0m\u001b[0;34m'tr'\u001b[0m\u001b[0;34m,\u001b[0m \u001b[0mclass_\u001b[0m\u001b[0;34m=\u001b[0m\u001b[0;34m'weatherhistory_results_datavalue prcp'\u001b[0m\u001b[0;34m)\u001b[0m\u001b[0;34m\u001b[0m\u001b[0;34m\u001b[0m\u001b[0m\n",
      "\u001b[0;32m/usr/local/lib/python3.7/site-packages/requests/api.py\u001b[0m in \u001b[0;36mget\u001b[0;34m(url, params, **kwargs)\u001b[0m\n\u001b[1;32m     70\u001b[0m \u001b[0;34m\u001b[0m\u001b[0m\n\u001b[1;32m     71\u001b[0m     \u001b[0mkwargs\u001b[0m\u001b[0;34m.\u001b[0m\u001b[0msetdefault\u001b[0m\u001b[0;34m(\u001b[0m\u001b[0;34m'allow_redirects'\u001b[0m\u001b[0;34m,\u001b[0m \u001b[0;32mTrue\u001b[0m\u001b[0;34m)\u001b[0m\u001b[0;34m\u001b[0m\u001b[0;34m\u001b[0m\u001b[0m\n\u001b[0;32m---> 72\u001b[0;31m     \u001b[0;32mreturn\u001b[0m \u001b[0mrequest\u001b[0m\u001b[0;34m(\u001b[0m\u001b[0;34m'get'\u001b[0m\u001b[0;34m,\u001b[0m \u001b[0murl\u001b[0m\u001b[0;34m,\u001b[0m \u001b[0mparams\u001b[0m\u001b[0;34m=\u001b[0m\u001b[0mparams\u001b[0m\u001b[0;34m,\u001b[0m \u001b[0;34m**\u001b[0m\u001b[0mkwargs\u001b[0m\u001b[0;34m)\u001b[0m\u001b[0;34m\u001b[0m\u001b[0;34m\u001b[0m\u001b[0m\n\u001b[0m\u001b[1;32m     73\u001b[0m \u001b[0;34m\u001b[0m\u001b[0m\n\u001b[1;32m     74\u001b[0m \u001b[0;34m\u001b[0m\u001b[0m\n",
      "\u001b[0;32m/usr/local/lib/python3.7/site-packages/requests/api.py\u001b[0m in \u001b[0;36mrequest\u001b[0;34m(method, url, **kwargs)\u001b[0m\n\u001b[1;32m     56\u001b[0m     \u001b[0;31m# cases, and look like a memory leak in others.\u001b[0m\u001b[0;34m\u001b[0m\u001b[0;34m\u001b[0m\u001b[0;34m\u001b[0m\u001b[0m\n\u001b[1;32m     57\u001b[0m     \u001b[0;32mwith\u001b[0m \u001b[0msessions\u001b[0m\u001b[0;34m.\u001b[0m\u001b[0mSession\u001b[0m\u001b[0;34m(\u001b[0m\u001b[0;34m)\u001b[0m \u001b[0;32mas\u001b[0m \u001b[0msession\u001b[0m\u001b[0;34m:\u001b[0m\u001b[0;34m\u001b[0m\u001b[0;34m\u001b[0m\u001b[0m\n\u001b[0;32m---> 58\u001b[0;31m         \u001b[0;32mreturn\u001b[0m \u001b[0msession\u001b[0m\u001b[0;34m.\u001b[0m\u001b[0mrequest\u001b[0m\u001b[0;34m(\u001b[0m\u001b[0mmethod\u001b[0m\u001b[0;34m=\u001b[0m\u001b[0mmethod\u001b[0m\u001b[0;34m,\u001b[0m \u001b[0murl\u001b[0m\u001b[0;34m=\u001b[0m\u001b[0murl\u001b[0m\u001b[0;34m,\u001b[0m \u001b[0;34m**\u001b[0m\u001b[0mkwargs\u001b[0m\u001b[0;34m)\u001b[0m\u001b[0;34m\u001b[0m\u001b[0;34m\u001b[0m\u001b[0m\n\u001b[0m\u001b[1;32m     59\u001b[0m \u001b[0;34m\u001b[0m\u001b[0m\n\u001b[1;32m     60\u001b[0m \u001b[0;34m\u001b[0m\u001b[0m\n",
      "\u001b[0;32m/usr/local/lib/python3.7/site-packages/requests/sessions.py\u001b[0m in \u001b[0;36mrequest\u001b[0;34m(self, method, url, params, data, headers, cookies, files, auth, timeout, allow_redirects, proxies, hooks, stream, verify, cert, json)\u001b[0m\n\u001b[1;32m    510\u001b[0m         }\n\u001b[1;32m    511\u001b[0m         \u001b[0msend_kwargs\u001b[0m\u001b[0;34m.\u001b[0m\u001b[0mupdate\u001b[0m\u001b[0;34m(\u001b[0m\u001b[0msettings\u001b[0m\u001b[0;34m)\u001b[0m\u001b[0;34m\u001b[0m\u001b[0;34m\u001b[0m\u001b[0m\n\u001b[0;32m--> 512\u001b[0;31m         \u001b[0mresp\u001b[0m \u001b[0;34m=\u001b[0m \u001b[0mself\u001b[0m\u001b[0;34m.\u001b[0m\u001b[0msend\u001b[0m\u001b[0;34m(\u001b[0m\u001b[0mprep\u001b[0m\u001b[0;34m,\u001b[0m \u001b[0;34m**\u001b[0m\u001b[0msend_kwargs\u001b[0m\u001b[0;34m)\u001b[0m\u001b[0;34m\u001b[0m\u001b[0;34m\u001b[0m\u001b[0m\n\u001b[0m\u001b[1;32m    513\u001b[0m \u001b[0;34m\u001b[0m\u001b[0m\n\u001b[1;32m    514\u001b[0m         \u001b[0;32mreturn\u001b[0m \u001b[0mresp\u001b[0m\u001b[0;34m\u001b[0m\u001b[0;34m\u001b[0m\u001b[0m\n",
      "\u001b[0;32m/usr/local/lib/python3.7/site-packages/requests/sessions.py\u001b[0m in \u001b[0;36msend\u001b[0;34m(self, request, **kwargs)\u001b[0m\n\u001b[1;32m    620\u001b[0m \u001b[0;34m\u001b[0m\u001b[0m\n\u001b[1;32m    621\u001b[0m         \u001b[0;31m# Send the request\u001b[0m\u001b[0;34m\u001b[0m\u001b[0;34m\u001b[0m\u001b[0;34m\u001b[0m\u001b[0m\n\u001b[0;32m--> 622\u001b[0;31m         \u001b[0mr\u001b[0m \u001b[0;34m=\u001b[0m \u001b[0madapter\u001b[0m\u001b[0;34m.\u001b[0m\u001b[0msend\u001b[0m\u001b[0;34m(\u001b[0m\u001b[0mrequest\u001b[0m\u001b[0;34m,\u001b[0m \u001b[0;34m**\u001b[0m\u001b[0mkwargs\u001b[0m\u001b[0;34m)\u001b[0m\u001b[0;34m\u001b[0m\u001b[0;34m\u001b[0m\u001b[0m\n\u001b[0m\u001b[1;32m    623\u001b[0m \u001b[0;34m\u001b[0m\u001b[0m\n\u001b[1;32m    624\u001b[0m         \u001b[0;31m# Total elapsed time of the request (approximately)\u001b[0m\u001b[0;34m\u001b[0m\u001b[0;34m\u001b[0m\u001b[0;34m\u001b[0m\u001b[0m\n",
      "\u001b[0;32m/usr/local/lib/python3.7/site-packages/requests/adapters.py\u001b[0m in \u001b[0;36msend\u001b[0;34m(self, request, stream, timeout, verify, cert, proxies)\u001b[0m\n\u001b[1;32m    443\u001b[0m                     \u001b[0mdecode_content\u001b[0m\u001b[0;34m=\u001b[0m\u001b[0;32mFalse\u001b[0m\u001b[0;34m,\u001b[0m\u001b[0;34m\u001b[0m\u001b[0;34m\u001b[0m\u001b[0m\n\u001b[1;32m    444\u001b[0m                     \u001b[0mretries\u001b[0m\u001b[0;34m=\u001b[0m\u001b[0mself\u001b[0m\u001b[0;34m.\u001b[0m\u001b[0mmax_retries\u001b[0m\u001b[0;34m,\u001b[0m\u001b[0;34m\u001b[0m\u001b[0;34m\u001b[0m\u001b[0m\n\u001b[0;32m--> 445\u001b[0;31m                     \u001b[0mtimeout\u001b[0m\u001b[0;34m=\u001b[0m\u001b[0mtimeout\u001b[0m\u001b[0;34m\u001b[0m\u001b[0;34m\u001b[0m\u001b[0m\n\u001b[0m\u001b[1;32m    446\u001b[0m                 )\n\u001b[1;32m    447\u001b[0m \u001b[0;34m\u001b[0m\u001b[0m\n",
      "\u001b[0;32m/usr/local/lib/python3.7/site-packages/urllib3/connectionpool.py\u001b[0m in \u001b[0;36murlopen\u001b[0;34m(self, method, url, body, headers, retries, redirect, assert_same_host, timeout, pool_timeout, release_conn, chunked, body_pos, **response_kw)\u001b[0m\n\u001b[1;32m    598\u001b[0m                                                   \u001b[0mtimeout\u001b[0m\u001b[0;34m=\u001b[0m\u001b[0mtimeout_obj\u001b[0m\u001b[0;34m,\u001b[0m\u001b[0;34m\u001b[0m\u001b[0;34m\u001b[0m\u001b[0m\n\u001b[1;32m    599\u001b[0m                                                   \u001b[0mbody\u001b[0m\u001b[0;34m=\u001b[0m\u001b[0mbody\u001b[0m\u001b[0;34m,\u001b[0m \u001b[0mheaders\u001b[0m\u001b[0;34m=\u001b[0m\u001b[0mheaders\u001b[0m\u001b[0;34m,\u001b[0m\u001b[0;34m\u001b[0m\u001b[0;34m\u001b[0m\u001b[0m\n\u001b[0;32m--> 600\u001b[0;31m                                                   chunked=chunked)\n\u001b[0m\u001b[1;32m    601\u001b[0m \u001b[0;34m\u001b[0m\u001b[0m\n\u001b[1;32m    602\u001b[0m             \u001b[0;31m# If we're going to release the connection in ``finally:``, then\u001b[0m\u001b[0;34m\u001b[0m\u001b[0;34m\u001b[0m\u001b[0;34m\u001b[0m\u001b[0m\n",
      "\u001b[0;32m/usr/local/lib/python3.7/site-packages/urllib3/connectionpool.py\u001b[0m in \u001b[0;36m_make_request\u001b[0;34m(self, conn, method, url, timeout, chunked, **httplib_request_kw)\u001b[0m\n\u001b[1;32m    378\u001b[0m             \u001b[0;32mexcept\u001b[0m \u001b[0mTypeError\u001b[0m\u001b[0;34m:\u001b[0m  \u001b[0;31m# Python 2.6 and older, Python 3\u001b[0m\u001b[0;34m\u001b[0m\u001b[0;34m\u001b[0m\u001b[0m\n\u001b[1;32m    379\u001b[0m                 \u001b[0;32mtry\u001b[0m\u001b[0;34m:\u001b[0m\u001b[0;34m\u001b[0m\u001b[0;34m\u001b[0m\u001b[0m\n\u001b[0;32m--> 380\u001b[0;31m                     \u001b[0mhttplib_response\u001b[0m \u001b[0;34m=\u001b[0m \u001b[0mconn\u001b[0m\u001b[0;34m.\u001b[0m\u001b[0mgetresponse\u001b[0m\u001b[0;34m(\u001b[0m\u001b[0;34m)\u001b[0m\u001b[0;34m\u001b[0m\u001b[0;34m\u001b[0m\u001b[0m\n\u001b[0m\u001b[1;32m    381\u001b[0m                 \u001b[0;32mexcept\u001b[0m \u001b[0mException\u001b[0m \u001b[0;32mas\u001b[0m \u001b[0me\u001b[0m\u001b[0;34m:\u001b[0m\u001b[0;34m\u001b[0m\u001b[0;34m\u001b[0m\u001b[0m\n\u001b[1;32m    382\u001b[0m                     \u001b[0;31m# Remove the TypeError from the exception chain in Python 3;\u001b[0m\u001b[0;34m\u001b[0m\u001b[0;34m\u001b[0m\u001b[0;34m\u001b[0m\u001b[0m\n",
      "\u001b[0;32m/usr/local/Cellar/python/3.7.3/Frameworks/Python.framework/Versions/3.7/lib/python3.7/http/client.py\u001b[0m in \u001b[0;36mgetresponse\u001b[0;34m(self)\u001b[0m\n\u001b[1;32m   1319\u001b[0m         \u001b[0;32mtry\u001b[0m\u001b[0;34m:\u001b[0m\u001b[0;34m\u001b[0m\u001b[0;34m\u001b[0m\u001b[0m\n\u001b[1;32m   1320\u001b[0m             \u001b[0;32mtry\u001b[0m\u001b[0;34m:\u001b[0m\u001b[0;34m\u001b[0m\u001b[0;34m\u001b[0m\u001b[0m\n\u001b[0;32m-> 1321\u001b[0;31m                 \u001b[0mresponse\u001b[0m\u001b[0;34m.\u001b[0m\u001b[0mbegin\u001b[0m\u001b[0;34m(\u001b[0m\u001b[0;34m)\u001b[0m\u001b[0;34m\u001b[0m\u001b[0;34m\u001b[0m\u001b[0m\n\u001b[0m\u001b[1;32m   1322\u001b[0m             \u001b[0;32mexcept\u001b[0m \u001b[0mConnectionError\u001b[0m\u001b[0;34m:\u001b[0m\u001b[0;34m\u001b[0m\u001b[0;34m\u001b[0m\u001b[0m\n\u001b[1;32m   1323\u001b[0m                 \u001b[0mself\u001b[0m\u001b[0;34m.\u001b[0m\u001b[0mclose\u001b[0m\u001b[0;34m(\u001b[0m\u001b[0;34m)\u001b[0m\u001b[0;34m\u001b[0m\u001b[0;34m\u001b[0m\u001b[0m\n",
      "\u001b[0;32m/usr/local/Cellar/python/3.7.3/Frameworks/Python.framework/Versions/3.7/lib/python3.7/http/client.py\u001b[0m in \u001b[0;36mbegin\u001b[0;34m(self)\u001b[0m\n\u001b[1;32m    294\u001b[0m         \u001b[0;31m# read until we get a non-100 response\u001b[0m\u001b[0;34m\u001b[0m\u001b[0;34m\u001b[0m\u001b[0;34m\u001b[0m\u001b[0m\n\u001b[1;32m    295\u001b[0m         \u001b[0;32mwhile\u001b[0m \u001b[0;32mTrue\u001b[0m\u001b[0;34m:\u001b[0m\u001b[0;34m\u001b[0m\u001b[0;34m\u001b[0m\u001b[0m\n\u001b[0;32m--> 296\u001b[0;31m             \u001b[0mversion\u001b[0m\u001b[0;34m,\u001b[0m \u001b[0mstatus\u001b[0m\u001b[0;34m,\u001b[0m \u001b[0mreason\u001b[0m \u001b[0;34m=\u001b[0m \u001b[0mself\u001b[0m\u001b[0;34m.\u001b[0m\u001b[0m_read_status\u001b[0m\u001b[0;34m(\u001b[0m\u001b[0;34m)\u001b[0m\u001b[0;34m\u001b[0m\u001b[0;34m\u001b[0m\u001b[0m\n\u001b[0m\u001b[1;32m    297\u001b[0m             \u001b[0;32mif\u001b[0m \u001b[0mstatus\u001b[0m \u001b[0;34m!=\u001b[0m \u001b[0mCONTINUE\u001b[0m\u001b[0;34m:\u001b[0m\u001b[0;34m\u001b[0m\u001b[0;34m\u001b[0m\u001b[0m\n\u001b[1;32m    298\u001b[0m                 \u001b[0;32mbreak\u001b[0m\u001b[0;34m\u001b[0m\u001b[0;34m\u001b[0m\u001b[0m\n",
      "\u001b[0;32m/usr/local/Cellar/python/3.7.3/Frameworks/Python.framework/Versions/3.7/lib/python3.7/http/client.py\u001b[0m in \u001b[0;36m_read_status\u001b[0;34m(self)\u001b[0m\n\u001b[1;32m    255\u001b[0m \u001b[0;34m\u001b[0m\u001b[0m\n\u001b[1;32m    256\u001b[0m     \u001b[0;32mdef\u001b[0m \u001b[0m_read_status\u001b[0m\u001b[0;34m(\u001b[0m\u001b[0mself\u001b[0m\u001b[0;34m)\u001b[0m\u001b[0;34m:\u001b[0m\u001b[0;34m\u001b[0m\u001b[0;34m\u001b[0m\u001b[0m\n\u001b[0;32m--> 257\u001b[0;31m         \u001b[0mline\u001b[0m \u001b[0;34m=\u001b[0m \u001b[0mstr\u001b[0m\u001b[0;34m(\u001b[0m\u001b[0mself\u001b[0m\u001b[0;34m.\u001b[0m\u001b[0mfp\u001b[0m\u001b[0;34m.\u001b[0m\u001b[0mreadline\u001b[0m\u001b[0;34m(\u001b[0m\u001b[0m_MAXLINE\u001b[0m \u001b[0;34m+\u001b[0m \u001b[0;36m1\u001b[0m\u001b[0;34m)\u001b[0m\u001b[0;34m,\u001b[0m \u001b[0;34m\"iso-8859-1\"\u001b[0m\u001b[0;34m)\u001b[0m\u001b[0;34m\u001b[0m\u001b[0;34m\u001b[0m\u001b[0m\n\u001b[0m\u001b[1;32m    258\u001b[0m         \u001b[0;32mif\u001b[0m \u001b[0mlen\u001b[0m\u001b[0;34m(\u001b[0m\u001b[0mline\u001b[0m\u001b[0;34m)\u001b[0m \u001b[0;34m>\u001b[0m \u001b[0m_MAXLINE\u001b[0m\u001b[0;34m:\u001b[0m\u001b[0;34m\u001b[0m\u001b[0;34m\u001b[0m\u001b[0m\n\u001b[1;32m    259\u001b[0m             \u001b[0;32mraise\u001b[0m \u001b[0mLineTooLong\u001b[0m\u001b[0;34m(\u001b[0m\u001b[0;34m\"status line\"\u001b[0m\u001b[0;34m)\u001b[0m\u001b[0;34m\u001b[0m\u001b[0;34m\u001b[0m\u001b[0m\n",
      "\u001b[0;32m/usr/local/Cellar/python/3.7.3/Frameworks/Python.framework/Versions/3.7/lib/python3.7/socket.py\u001b[0m in \u001b[0;36mreadinto\u001b[0;34m(self, b)\u001b[0m\n\u001b[1;32m    587\u001b[0m         \u001b[0;32mwhile\u001b[0m \u001b[0;32mTrue\u001b[0m\u001b[0;34m:\u001b[0m\u001b[0;34m\u001b[0m\u001b[0;34m\u001b[0m\u001b[0m\n\u001b[1;32m    588\u001b[0m             \u001b[0;32mtry\u001b[0m\u001b[0;34m:\u001b[0m\u001b[0;34m\u001b[0m\u001b[0;34m\u001b[0m\u001b[0m\n\u001b[0;32m--> 589\u001b[0;31m                 \u001b[0;32mreturn\u001b[0m \u001b[0mself\u001b[0m\u001b[0;34m.\u001b[0m\u001b[0m_sock\u001b[0m\u001b[0;34m.\u001b[0m\u001b[0mrecv_into\u001b[0m\u001b[0;34m(\u001b[0m\u001b[0mb\u001b[0m\u001b[0;34m)\u001b[0m\u001b[0;34m\u001b[0m\u001b[0;34m\u001b[0m\u001b[0m\n\u001b[0m\u001b[1;32m    590\u001b[0m             \u001b[0;32mexcept\u001b[0m \u001b[0mtimeout\u001b[0m\u001b[0;34m:\u001b[0m\u001b[0;34m\u001b[0m\u001b[0;34m\u001b[0m\u001b[0m\n\u001b[1;32m    591\u001b[0m                 \u001b[0mself\u001b[0m\u001b[0;34m.\u001b[0m\u001b[0m_timeout_occurred\u001b[0m \u001b[0;34m=\u001b[0m \u001b[0;32mTrue\u001b[0m\u001b[0;34m\u001b[0m\u001b[0;34m\u001b[0m\u001b[0m\n",
      "\u001b[0;32m/usr/local/Cellar/python/3.7.3/Frameworks/Python.framework/Versions/3.7/lib/python3.7/ssl.py\u001b[0m in \u001b[0;36mrecv_into\u001b[0;34m(self, buffer, nbytes, flags)\u001b[0m\n\u001b[1;32m   1050\u001b[0m                   \u001b[0;34m\"non-zero flags not allowed in calls to recv_into() on %s\"\u001b[0m \u001b[0;34m%\u001b[0m\u001b[0;34m\u001b[0m\u001b[0;34m\u001b[0m\u001b[0m\n\u001b[1;32m   1051\u001b[0m                   self.__class__)\n\u001b[0;32m-> 1052\u001b[0;31m             \u001b[0;32mreturn\u001b[0m \u001b[0mself\u001b[0m\u001b[0;34m.\u001b[0m\u001b[0mread\u001b[0m\u001b[0;34m(\u001b[0m\u001b[0mnbytes\u001b[0m\u001b[0;34m,\u001b[0m \u001b[0mbuffer\u001b[0m\u001b[0;34m)\u001b[0m\u001b[0;34m\u001b[0m\u001b[0;34m\u001b[0m\u001b[0m\n\u001b[0m\u001b[1;32m   1053\u001b[0m         \u001b[0;32melse\u001b[0m\u001b[0;34m:\u001b[0m\u001b[0;34m\u001b[0m\u001b[0;34m\u001b[0m\u001b[0m\n\u001b[1;32m   1054\u001b[0m             \u001b[0;32mreturn\u001b[0m \u001b[0msuper\u001b[0m\u001b[0;34m(\u001b[0m\u001b[0;34m)\u001b[0m\u001b[0;34m.\u001b[0m\u001b[0mrecv_into\u001b[0m\u001b[0;34m(\u001b[0m\u001b[0mbuffer\u001b[0m\u001b[0;34m,\u001b[0m \u001b[0mnbytes\u001b[0m\u001b[0;34m,\u001b[0m \u001b[0mflags\u001b[0m\u001b[0;34m)\u001b[0m\u001b[0;34m\u001b[0m\u001b[0;34m\u001b[0m\u001b[0m\n",
      "\u001b[0;32m/usr/local/Cellar/python/3.7.3/Frameworks/Python.framework/Versions/3.7/lib/python3.7/ssl.py\u001b[0m in \u001b[0;36mread\u001b[0;34m(self, len, buffer)\u001b[0m\n\u001b[1;32m    909\u001b[0m         \u001b[0;32mtry\u001b[0m\u001b[0;34m:\u001b[0m\u001b[0;34m\u001b[0m\u001b[0;34m\u001b[0m\u001b[0m\n\u001b[1;32m    910\u001b[0m             \u001b[0;32mif\u001b[0m \u001b[0mbuffer\u001b[0m \u001b[0;32mis\u001b[0m \u001b[0;32mnot\u001b[0m \u001b[0;32mNone\u001b[0m\u001b[0;34m:\u001b[0m\u001b[0;34m\u001b[0m\u001b[0;34m\u001b[0m\u001b[0m\n\u001b[0;32m--> 911\u001b[0;31m                 \u001b[0;32mreturn\u001b[0m \u001b[0mself\u001b[0m\u001b[0;34m.\u001b[0m\u001b[0m_sslobj\u001b[0m\u001b[0;34m.\u001b[0m\u001b[0mread\u001b[0m\u001b[0;34m(\u001b[0m\u001b[0mlen\u001b[0m\u001b[0;34m,\u001b[0m \u001b[0mbuffer\u001b[0m\u001b[0;34m)\u001b[0m\u001b[0;34m\u001b[0m\u001b[0;34m\u001b[0m\u001b[0m\n\u001b[0m\u001b[1;32m    912\u001b[0m             \u001b[0;32melse\u001b[0m\u001b[0;34m:\u001b[0m\u001b[0;34m\u001b[0m\u001b[0;34m\u001b[0m\u001b[0m\n\u001b[1;32m    913\u001b[0m                 \u001b[0;32mreturn\u001b[0m \u001b[0mself\u001b[0m\u001b[0;34m.\u001b[0m\u001b[0m_sslobj\u001b[0m\u001b[0;34m.\u001b[0m\u001b[0mread\u001b[0m\u001b[0;34m(\u001b[0m\u001b[0mlen\u001b[0m\u001b[0;34m)\u001b[0m\u001b[0;34m\u001b[0m\u001b[0;34m\u001b[0m\u001b[0m\n",
      "\u001b[0;31mKeyboardInterrupt\u001b[0m: "
     ]
    }
   ],
   "source": [
    "print(precipitation)"
   ]
  },
  {
   "cell_type": "code",
   "execution_count": null,
   "metadata": {},
   "outputs": [],
   "source": [
    "ppdf.to_pickle('clean_data.pkl')"
   ]
  }
 ],
 "metadata": {
  "kernelspec": {
   "display_name": "Python 3",
   "language": "python",
   "name": "python3"
  },
  "language_info": {
   "codemirror_mode": {
    "name": "ipython",
    "version": 3
   },
   "file_extension": ".py",
   "mimetype": "text/x-python",
   "name": "python",
   "nbconvert_exporter": "python",
   "pygments_lexer": "ipython3",
   "version": "3.7.3"
  },
  "toc": {
   "base_numbering": 1,
   "nav_menu": {},
   "number_sections": true,
   "sideBar": true,
   "skip_h1_title": false,
   "title_cell": "Table of Contents",
   "title_sidebar": "Contents",
   "toc_cell": false,
   "toc_position": {},
   "toc_section_display": true,
   "toc_window_display": false
  },
  "varInspector": {
   "cols": {
    "lenName": 16,
    "lenType": 16,
    "lenVar": 40
   },
   "kernels_config": {
    "python": {
     "delete_cmd_postfix": "",
     "delete_cmd_prefix": "del ",
     "library": "var_list.py",
     "varRefreshCmd": "print(var_dic_list())"
    },
    "r": {
     "delete_cmd_postfix": ") ",
     "delete_cmd_prefix": "rm(",
     "library": "var_list.r",
     "varRefreshCmd": "cat(var_dic_list()) "
    }
   },
   "types_to_exclude": [
    "module",
    "function",
    "builtin_function_or_method",
    "instance",
    "_Feature"
   ],
   "window_display": false
  }
 },
 "nbformat": 4,
 "nbformat_minor": 2
}
