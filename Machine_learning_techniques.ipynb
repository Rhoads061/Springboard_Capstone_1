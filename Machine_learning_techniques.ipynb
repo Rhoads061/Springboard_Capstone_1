{
 "cells": [
  {
   "cell_type": "code",
   "execution_count": 19,
   "metadata": {},
   "outputs": [],
   "source": [
    "import numpy as np\n",
    "import pandas as pd\n",
    "import matplotlib.pyplot as plt\n",
    "import seaborn as sns\n",
    "import pickle\n",
    "from sklearn.linear_model import Lasso, LinearRegression, Ridge\n",
    "from sklearn.metrics import mean_squared_error\n",
    "from sklearn.model_selection import train_test_split, cross_validate, cross_val_score\n",
    "from sklearn.neighbors import KNeighborsClassifier \n",
    "sns.set_style(\"whitegrid\")\n",
    "sns.set_context(\"poster\")\n",
    "#read in df\n",
    "ppdf=pd.read_pickle('ready_for_ml.pkl')\n",
    "sns.set()"
   ]
  },
  {
   "cell_type": "markdown",
   "metadata": {},
   "source": [
    "Because the descriptive stats did not show very much correlation we are going to use a Lasso regularized regression in order to discover which variables are strong predictors of errors in the point spread and O/U lines. First we need to seperate what features we want to use. We will use a few different cmbinations of features to see which one best predicts variability."
   ]
  },
  {
   "cell_type": "code",
   "execution_count": 20,
   "metadata": {},
   "outputs": [
    {
     "data": {
      "text/plain": [
       "array([[2],\n",
       "       [2],\n",
       "       [2],\n",
       "       ...,\n",
       "       [1],\n",
       "       [1],\n",
       "       [1]])"
      ]
     },
     "execution_count": 20,
     "metadata": {},
     "output_type": "execute_result"
    }
   ],
   "source": [
    "#Create Numpy arrays from our data to pass to ml algorithms \n",
    "ySpread=np.reshape(np.array(ppdf.loc[:,'results-spread']),(-1,1))\n",
    "yOver=np.reshape(np.array(ppdf.loc[:,'over_diff']),(-1,1))\n",
    "ySpreadabs=np.reshape(np.array(ppdf.loc[:,'resultmSpreadabs']),(-1,1))\n",
    "yOverabs=np.reshape(np.array(ppdf.loc[:,'over_diffabs']),(-1,1))\n",
    "Xweath= ppdf.loc[:, ['weather_temperature','weather_wind_mph', 'precipitation']]\n",
    "\n",
    "Xweath=np.array(Xweath)\n",
    "Xrank=np.reshape(np.array(ppdf.weather_rank),(-1,1))\n",
    "Xbw=np.reshape(np.array(ppdf.bw.astype(int)),(-1,1))\n",
    "Xrank"
   ]
  },
  {
   "cell_type": "code",
   "execution_count": 21,
   "metadata": {
    "scrolled": false
   },
   "outputs": [
    {
     "data": {
      "text/plain": [
       "array([ 0., -0.,  0.])"
      ]
     },
     "execution_count": 21,
     "metadata": {},
     "output_type": "execute_result"
    }
   ],
   "source": [
    "#Examine coeficients of various relationships to see if they should be studied further\n",
    "lass= Lasso(alpha=.3,normalize=True)\n",
    "lass.fit(Xweath, ySpread)\n",
    "lass.coef_"
   ]
  },
  {
   "cell_type": "code",
   "execution_count": 22,
   "metadata": {},
   "outputs": [
    {
     "data": {
      "text/plain": [
       "array([-0., -0., -0.])"
      ]
     },
     "execution_count": 22,
     "metadata": {},
     "output_type": "execute_result"
    }
   ],
   "source": [
    "lass= Lasso(alpha=.3,normalize=True)\n",
    "lass.fit(Xweath, yOver)\n",
    "lass.coef_"
   ]
  },
  {
   "cell_type": "code",
   "execution_count": 23,
   "metadata": {},
   "outputs": [
    {
     "data": {
      "text/plain": [
       "array([-0.,  0.,  0.])"
      ]
     },
     "execution_count": 23,
     "metadata": {},
     "output_type": "execute_result"
    }
   ],
   "source": [
    "lass= Lasso(alpha=.3,normalize=True)\n",
    "lass.fit(Xweath, yOverabs)\n",
    "lass.coef_"
   ]
  },
  {
   "cell_type": "code",
   "execution_count": 24,
   "metadata": {},
   "outputs": [
    {
     "data": {
      "text/plain": [
       "array([ 0., -0., -0.])"
      ]
     },
     "execution_count": 24,
     "metadata": {},
     "output_type": "execute_result"
    }
   ],
   "source": [
    "lass= Lasso(alpha=.3,normalize=True)\n",
    "lass.fit(Xweath, ySpreadabs)\n",
    "lass.coef_"
   ]
  },
  {
   "cell_type": "code",
   "execution_count": 35,
   "metadata": {
    "scrolled": true
   },
   "outputs": [
    {
     "data": {
      "text/plain": [
       "-0.0012249360959593724"
      ]
     },
     "execution_count": 35,
     "metadata": {},
     "output_type": "execute_result"
    }
   ],
   "source": [
    "reg= LinearRegression()\n",
    "cv= cross_val_score(reg, Xrank, ySpread, cv=5)\n",
    "cv.mean()"
   ]
  },
  {
   "cell_type": "code",
   "execution_count": 36,
   "metadata": {},
   "outputs": [
    {
     "data": {
      "text/plain": [
       "-0.0021082754669870417"
      ]
     },
     "execution_count": 36,
     "metadata": {},
     "output_type": "execute_result"
    }
   ],
   "source": [
    "reg= LinearRegression()\n",
    "cv= cross_val_score(reg, Xrank, ySpreadabs, cv=5)\n",
    "cv.mean()"
   ]
  },
  {
   "cell_type": "code",
   "execution_count": 37,
   "metadata": {},
   "outputs": [
    {
     "data": {
      "text/plain": [
       "-0.0011041408928526674"
      ]
     },
     "execution_count": 37,
     "metadata": {},
     "output_type": "execute_result"
    }
   ],
   "source": [
    "reg= LinearRegression()\n",
    "cv= cross_val_score(reg, Xrank, yOver, cv=5)\n",
    "cv.mean()"
   ]
  },
  {
   "cell_type": "code",
   "execution_count": 38,
   "metadata": {},
   "outputs": [
    {
     "data": {
      "text/plain": [
       "-0.00017931853688866184"
      ]
     },
     "execution_count": 38,
     "metadata": {},
     "output_type": "execute_result"
    }
   ],
   "source": [
    "\n",
    "reg= LinearRegression()\n",
    "cv= cross_val_score(reg, Xrank, yOverabs, cv=5)\n",
    "cv.mean()"
   ]
  },
  {
   "cell_type": "code",
   "execution_count": 39,
   "metadata": {},
   "outputs": [
    {
     "data": {
      "text/plain": [
       "-0.0010300868315448186"
      ]
     },
     "execution_count": 39,
     "metadata": {},
     "output_type": "execute_result"
    }
   ],
   "source": [
    "reg= LinearRegression()\n",
    "cv= cross_val_score(reg, Xbw, ySpread, cv=5)\n",
    "cv.mean()"
   ]
  },
  {
   "cell_type": "code",
   "execution_count": 40,
   "metadata": {
    "scrolled": true
   },
   "outputs": [
    {
     "data": {
      "text/plain": [
       "-0.0001850572053200494"
      ]
     },
     "execution_count": 40,
     "metadata": {},
     "output_type": "execute_result"
    }
   ],
   "source": [
    "\n",
    "reg= LinearRegression()\n",
    "cv= cross_val_score(reg, Xbw, yOver, cv=5)\n",
    "cv.mean()\n"
   ]
  },
  {
   "cell_type": "code",
   "execution_count": 41,
   "metadata": {},
   "outputs": [
    {
     "data": {
      "text/plain": [
       "-0.0026912527065614976"
      ]
     },
     "execution_count": 41,
     "metadata": {},
     "output_type": "execute_result"
    }
   ],
   "source": [
    "reg= LinearRegression()\n",
    "cv= cross_val_score(reg, Xbw, ySpreadabs, cv=5)\n",
    "cv.mean()"
   ]
  },
  {
   "cell_type": "code",
   "execution_count": 42,
   "metadata": {},
   "outputs": [
    {
     "data": {
      "text/plain": [
       "-0.0006511062517112531"
      ]
     },
     "execution_count": 42,
     "metadata": {},
     "output_type": "execute_result"
    }
   ],
   "source": [
    "reg= LinearRegression()\n",
    "cv= cross_val_score(reg, Xbw, yOverabs, cv=5)\n",
    "cv.mean()"
   ]
  },
  {
   "cell_type": "markdown",
   "metadata": {},
   "source": [
    "It appears the most significant effects are the effects of bw and rank on the over difference. While thees effects are negitive we should investigate further to see what amount of the variance can be explained by weather. As you can see the r-squares were negitive. A negitve r-squared means a horizontal line would better fit the data so the explained variance is zero."
   ]
  },
  {
   "cell_type": "markdown",
   "metadata": {},
   "source": [
    "With this model being somewhat of a failiure, I think it would be intersting to see if the model can predict the data in reverse. While this is not useful I find it interesting."
   ]
  },
  {
   "cell_type": "code",
   "execution_count": 18,
   "metadata": {},
   "outputs": [
    {
     "name": "stdout",
     "output_type": "stream",
     "text": [
      "[0.7620339  0.85220339 0.82847458 0.85627119 0.8440678  0.85830508\n",
      " 0.85694915 0.86169492]\n",
      "-----------\n",
      "[0.93915254 0.87694915 0.88       0.86559322 0.86644068 0.86423729\n",
      " 0.86338983 0.86288136]\n"
     ]
    }
   ],
   "source": [
    "ybw=Xbw.reshape(-1,1)\n",
    "XSpreadOver=ppdf.loc[:,['results-spread','over_diff']]\n",
    "\n",
    "XSpreadOver=np.array(XSpreadOver.values)\n",
    "X_train, X_test, y_train, y_test = train_test_split(XSpreadOver, ybw, test_size = .2)\n",
    "neighbor= np.arange(1,9)\n",
    "training_score=np.empty(len(neighbor))\n",
    "test_score=np.empty(len(neighbor))\n",
    "for i,k in enumerate(neighbor):\n",
    "    knn=KNeighborsClassifier(n_neighbors= k)\n",
    "    \n",
    "    knn.fit(X_train, y_train.ravel())\n",
    "    training_score[i] = knn.score(X_train, y_train)\n",
    "\n",
    "    \n",
    "    test_score[i] = knn.score(X_test, y_test)\n",
    "    \n",
    "print(test_score)\n",
    "print('-----------')\n",
    "print(training_score)\n"
   ]
  },
  {
   "cell_type": "markdown",
   "metadata": {},
   "source": [
    "Interestingly, It appears the model is able to predict, with about 85% accuracy wheather or not a game was played in bad weather simply by the difference between the predicted spread/Over/Under total and the actual score of the game. This may mean their is some unseen correlation. These results do not seem to be actionable because the model cannaot predict future matchups because it does not know the final score. Additionally, if the final score was known before the matchup the model would already be useless."
   ]
  },
  {
   "cell_type": "code",
   "execution_count": null,
   "metadata": {},
   "outputs": [],
   "source": []
  },
  {
   "cell_type": "code",
   "execution_count": null,
   "metadata": {},
   "outputs": [],
   "source": []
  },
  {
   "cell_type": "code",
   "execution_count": null,
   "metadata": {},
   "outputs": [],
   "source": []
  }
 ],
 "metadata": {
  "kernelspec": {
   "display_name": "Python 2",
   "language": "python",
   "name": "python2"
  },
  "language_info": {
   "codemirror_mode": {
    "name": "ipython",
    "version": 2
   },
   "file_extension": ".py",
   "mimetype": "text/x-python",
   "name": "python",
   "nbconvert_exporter": "python",
   "pygments_lexer": "ipython2",
   "version": "2.7.15"
  }
 },
 "nbformat": 4,
 "nbformat_minor": 2
}
